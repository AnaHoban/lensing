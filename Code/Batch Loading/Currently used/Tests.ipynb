{
 "cells": [
  {
   "cell_type": "code",
   "execution_count": 1,
   "metadata": {},
   "outputs": [],
   "source": [
    "import os\n",
    "import h5py\n",
    "import shutil\n",
    "import pandas as pd\n",
    "from astropy.nddata.utils import Cutout2D\n",
    "from astropy.io import fits\n",
    "from astropy import table\n",
    "import numpy as np\n",
    "import matplotlib.pyplot as plt\n",
    "from astropy.visualization import (ZScaleInterval, ImageNormalize)\n",
    "from astropy.visualization import make_lupton_rgb\n",
    "from collections import Counter\n",
    "from tensorflow import keras\n",
    "from astropy.wcs import WCS,utils\n",
    "import random\n",
    "from functions import create_cutouts"
   ]
  },
  {
   "cell_type": "code",
   "execution_count": 2,
   "metadata": {},
   "outputs": [],
   "source": [
    "file_name = \"confirmed_cfis_64p.h5\""
   ]
  },
  {
   "cell_type": "code",
   "execution_count": 3,
   "metadata": {},
   "outputs": [],
   "source": [
    "#useful directories\n",
    "os.path.expandvars(\"$SLURM_TMPDIR\")\n",
    "\n",
    "src = os.path.expandvars(\"$SCRATCH\") + file_name\n",
    "dest = os.path.expandvars(\"$SLURM_TMPDIR\") + \"/\"\n",
    "\n",
    "image_dir = \"/home/anahoban/projects/rrg-kyi/astro/cfis/W3/\"\n",
    "label_dir = \"labels/\""
   ]
  },
  {
   "cell_type": "code",
   "execution_count": 4,
   "metadata": {},
   "outputs": [],
   "source": [
    "hf = h5py.File(os.path.expandvars(\"$SCRATCH/\")+file_name, \"r\")\n",
    "#hf.close()\n",
    "\n",
    "\n",
    "#shutil.copy2(src, dest)"
   ]
  },
  {
   "cell_type": "code",
   "execution_count": 31,
   "metadata": {},
   "outputs": [],
   "source": [
    "hf.close()"
   ]
  },
  {
   "cell_type": "code",
   "execution_count": 34,
   "metadata": {},
   "outputs": [
    {
     "data": {
      "text/html": [
       "<div>\n",
       "<style scoped>\n",
       "    .dataframe tbody tr th:only-of-type {\n",
       "        vertical-align: middle;\n",
       "    }\n",
       "\n",
       "    .dataframe tbody tr th {\n",
       "        vertical-align: top;\n",
       "    }\n",
       "\n",
       "    .dataframe thead th {\n",
       "        text-align: right;\n",
       "    }\n",
       "</style>\n",
       "<table border=\"1\" class=\"dataframe\">\n",
       "  <thead>\n",
       "    <tr style=\"text-align: right;\">\n",
       "      <th></th>\n",
       "      <th>Unnamed: 0</th>\n",
       "      <th>NUMBER</th>\n",
       "      <th>X_IMAGE</th>\n",
       "      <th>Y_IMAGE</th>\n",
       "      <th>ALPHA_J2000</th>\n",
       "      <th>DELTA_J2000</th>\n",
       "      <th>MAG_AUTO</th>\n",
       "      <th>MAGERR_AUTO</th>\n",
       "      <th>MAG_BEST</th>\n",
       "      <th>MAGERR_BEST</th>\n",
       "      <th>...</th>\n",
       "      <th>ERRB_WORLD</th>\n",
       "      <th>THETA_J2000</th>\n",
       "      <th>ERRTHETA_J2000</th>\n",
       "      <th>ISOAREA_IMAGE</th>\n",
       "      <th>MU_MAX</th>\n",
       "      <th>FLUX_RADIUS</th>\n",
       "      <th>FLAGS</th>\n",
       "      <th>TILE</th>\n",
       "      <th>BAND</th>\n",
       "      <th>CUTOUT</th>\n",
       "    </tr>\n",
       "  </thead>\n",
       "  <tbody>\n",
       "    <tr>\n",
       "      <th>0</th>\n",
       "      <td>0</td>\n",
       "      <td>NaN</td>\n",
       "      <td>NaN</td>\n",
       "      <td>NaN</td>\n",
       "      <td>NaN</td>\n",
       "      <td>NaN</td>\n",
       "      <td>NaN</td>\n",
       "      <td>NaN</td>\n",
       "      <td>NaN</td>\n",
       "      <td>NaN</td>\n",
       "      <td>...</td>\n",
       "      <td>NaN</td>\n",
       "      <td>NaN</td>\n",
       "      <td>NaN</td>\n",
       "      <td>NaN</td>\n",
       "      <td>NaN</td>\n",
       "      <td>NaN</td>\n",
       "      <td>NaN</td>\n",
       "      <td>NaN</td>\n",
       "      <td>NaN</td>\n",
       "      <td>NaN</td>\n",
       "    </tr>\n",
       "    <tr>\n",
       "      <th>1</th>\n",
       "      <td>101</td>\n",
       "      <td>102.0</td>\n",
       "      <td>8682.0068</td>\n",
       "      <td>175.7034</td>\n",
       "      <td>1.810001</td>\n",
       "      <td>-0.248942</td>\n",
       "      <td>24.6370</td>\n",
       "      <td>0.3051</td>\n",
       "      <td>24.6370</td>\n",
       "      <td>0.3051</td>\n",
       "      <td>...</td>\n",
       "      <td>0.000011</td>\n",
       "      <td>85.15</td>\n",
       "      <td>89.75</td>\n",
       "      <td>6.0</td>\n",
       "      <td>23.5522</td>\n",
       "      <td>1.619</td>\n",
       "      <td>0.0</td>\n",
       "      <td>4.18</td>\n",
       "      <td>u</td>\n",
       "      <td>c101</td>\n",
       "    </tr>\n",
       "    <tr>\n",
       "      <th>2</th>\n",
       "      <td>1010</td>\n",
       "      <td>1011.0</td>\n",
       "      <td>6773.0195</td>\n",
       "      <td>1870.0000</td>\n",
       "      <td>1.908508</td>\n",
       "      <td>-0.161515</td>\n",
       "      <td>24.0965</td>\n",
       "      <td>0.2219</td>\n",
       "      <td>24.0965</td>\n",
       "      <td>0.2219</td>\n",
       "      <td>...</td>\n",
       "      <td>0.000006</td>\n",
       "      <td>-90.00</td>\n",
       "      <td>-90.00</td>\n",
       "      <td>2.0</td>\n",
       "      <td>23.6126</td>\n",
       "      <td>2.422</td>\n",
       "      <td>0.0</td>\n",
       "      <td>4.18</td>\n",
       "      <td>u</td>\n",
       "      <td>c1010</td>\n",
       "    </tr>\n",
       "    <tr>\n",
       "      <th>3</th>\n",
       "      <td>1016</td>\n",
       "      <td>1017.0</td>\n",
       "      <td>4769.4888</td>\n",
       "      <td>1877.5187</td>\n",
       "      <td>2.011895</td>\n",
       "      <td>-0.161127</td>\n",
       "      <td>24.9089</td>\n",
       "      <td>0.4511</td>\n",
       "      <td>24.9089</td>\n",
       "      <td>0.4511</td>\n",
       "      <td>...</td>\n",
       "      <td>0.000009</td>\n",
       "      <td>-46.02</td>\n",
       "      <td>18.80</td>\n",
       "      <td>3.0</td>\n",
       "      <td>23.5518</td>\n",
       "      <td>1.410</td>\n",
       "      <td>0.0</td>\n",
       "      <td>4.18</td>\n",
       "      <td>u</td>\n",
       "      <td>c1016</td>\n",
       "    </tr>\n",
       "    <tr>\n",
       "      <th>4</th>\n",
       "      <td>1070</td>\n",
       "      <td>1071.0</td>\n",
       "      <td>4596.8198</td>\n",
       "      <td>1938.1915</td>\n",
       "      <td>2.020805</td>\n",
       "      <td>-0.157996</td>\n",
       "      <td>24.3398</td>\n",
       "      <td>0.3159</td>\n",
       "      <td>24.3398</td>\n",
       "      <td>0.3159</td>\n",
       "      <td>...</td>\n",
       "      <td>0.000009</td>\n",
       "      <td>43.82</td>\n",
       "      <td>44.91</td>\n",
       "      <td>5.0</td>\n",
       "      <td>22.9621</td>\n",
       "      <td>1.732</td>\n",
       "      <td>0.0</td>\n",
       "      <td>4.18</td>\n",
       "      <td>u</td>\n",
       "      <td>c1070</td>\n",
       "    </tr>\n",
       "    <tr>\n",
       "      <th>...</th>\n",
       "      <td>...</td>\n",
       "      <td>...</td>\n",
       "      <td>...</td>\n",
       "      <td>...</td>\n",
       "      <td>...</td>\n",
       "      <td>...</td>\n",
       "      <td>...</td>\n",
       "      <td>...</td>\n",
       "      <td>...</td>\n",
       "      <td>...</td>\n",
       "      <td>...</td>\n",
       "      <td>...</td>\n",
       "      <td>...</td>\n",
       "      <td>...</td>\n",
       "      <td>...</td>\n",
       "      <td>...</td>\n",
       "      <td>...</td>\n",
       "      <td>...</td>\n",
       "      <td>...</td>\n",
       "      <td>...</td>\n",
       "      <td>...</td>\n",
       "    </tr>\n",
       "    <tr>\n",
       "      <th>103596</th>\n",
       "      <td>9724</td>\n",
       "      <td>9725.0</td>\n",
       "      <td>7504.3320</td>\n",
       "      <td>9606.3154</td>\n",
       "      <td>356.870771</td>\n",
       "      <td>0.237695</td>\n",
       "      <td>25.1215</td>\n",
       "      <td>0.2725</td>\n",
       "      <td>25.1215</td>\n",
       "      <td>0.2725</td>\n",
       "      <td>...</td>\n",
       "      <td>0.000012</td>\n",
       "      <td>45.82</td>\n",
       "      <td>44.98</td>\n",
       "      <td>1.0</td>\n",
       "      <td>23.5814</td>\n",
       "      <td>1.757</td>\n",
       "      <td>0.0</td>\n",
       "      <td>714.18</td>\n",
       "      <td>u</td>\n",
       "      <td>c9724</td>\n",
       "    </tr>\n",
       "    <tr>\n",
       "      <th>103597</th>\n",
       "      <td>9735</td>\n",
       "      <td>9736.0</td>\n",
       "      <td>924.3973</td>\n",
       "      <td>9668.8232</td>\n",
       "      <td>357.210310</td>\n",
       "      <td>0.240919</td>\n",
       "      <td>25.0175</td>\n",
       "      <td>0.4834</td>\n",
       "      <td>25.0175</td>\n",
       "      <td>0.4834</td>\n",
       "      <td>...</td>\n",
       "      <td>0.000016</td>\n",
       "      <td>81.07</td>\n",
       "      <td>82.30</td>\n",
       "      <td>11.0</td>\n",
       "      <td>24.0934</td>\n",
       "      <td>1.863</td>\n",
       "      <td>0.0</td>\n",
       "      <td>714.18</td>\n",
       "      <td>u</td>\n",
       "      <td>c9735</td>\n",
       "    </tr>\n",
       "    <tr>\n",
       "      <th>103598</th>\n",
       "      <td>9756</td>\n",
       "      <td>9757.0</td>\n",
       "      <td>1998.9895</td>\n",
       "      <td>9392.6816</td>\n",
       "      <td>357.154859</td>\n",
       "      <td>0.226671</td>\n",
       "      <td>24.6522</td>\n",
       "      <td>0.2776</td>\n",
       "      <td>24.6522</td>\n",
       "      <td>0.2776</td>\n",
       "      <td>...</td>\n",
       "      <td>0.000011</td>\n",
       "      <td>-12.98</td>\n",
       "      <td>-13.23</td>\n",
       "      <td>8.0</td>\n",
       "      <td>24.0695</td>\n",
       "      <td>2.592</td>\n",
       "      <td>0.0</td>\n",
       "      <td>714.18</td>\n",
       "      <td>u</td>\n",
       "      <td>c9756</td>\n",
       "    </tr>\n",
       "    <tr>\n",
       "      <th>103599</th>\n",
       "      <td>9763</td>\n",
       "      <td>9764.0</td>\n",
       "      <td>2003.9287</td>\n",
       "      <td>9628.6689</td>\n",
       "      <td>357.154604</td>\n",
       "      <td>0.238848</td>\n",
       "      <td>24.8426</td>\n",
       "      <td>0.3540</td>\n",
       "      <td>24.8426</td>\n",
       "      <td>0.3540</td>\n",
       "      <td>...</td>\n",
       "      <td>0.000015</td>\n",
       "      <td>10.83</td>\n",
       "      <td>10.65</td>\n",
       "      <td>10.0</td>\n",
       "      <td>24.1534</td>\n",
       "      <td>2.171</td>\n",
       "      <td>0.0</td>\n",
       "      <td>714.18</td>\n",
       "      <td>u</td>\n",
       "      <td>c9763</td>\n",
       "    </tr>\n",
       "    <tr>\n",
       "      <th>103600</th>\n",
       "      <td>991</td>\n",
       "      <td>992.0</td>\n",
       "      <td>1515.3402</td>\n",
       "      <td>362.1028</td>\n",
       "      <td>357.179816</td>\n",
       "      <td>-0.239324</td>\n",
       "      <td>23.9632</td>\n",
       "      <td>0.5432</td>\n",
       "      <td>23.9632</td>\n",
       "      <td>0.5432</td>\n",
       "      <td>...</td>\n",
       "      <td>0.000009</td>\n",
       "      <td>56.72</td>\n",
       "      <td>57.35</td>\n",
       "      <td>24.0</td>\n",
       "      <td>23.8102</td>\n",
       "      <td>2.360</td>\n",
       "      <td>0.0</td>\n",
       "      <td>714.18</td>\n",
       "      <td>u</td>\n",
       "      <td>c991</td>\n",
       "    </tr>\n",
       "  </tbody>\n",
       "</table>\n",
       "<p>103601 rows × 25 columns</p>\n",
       "</div>"
      ],
      "text/plain": [
       "        Unnamed: 0  NUMBER    X_IMAGE    Y_IMAGE  ALPHA_J2000  DELTA_J2000  \\\n",
       "0                0     NaN        NaN        NaN          NaN          NaN   \n",
       "1              101   102.0  8682.0068   175.7034     1.810001    -0.248942   \n",
       "2             1010  1011.0  6773.0195  1870.0000     1.908508    -0.161515   \n",
       "3             1016  1017.0  4769.4888  1877.5187     2.011895    -0.161127   \n",
       "4             1070  1071.0  4596.8198  1938.1915     2.020805    -0.157996   \n",
       "...            ...     ...        ...        ...          ...          ...   \n",
       "103596        9724  9725.0  7504.3320  9606.3154   356.870771     0.237695   \n",
       "103597        9735  9736.0   924.3973  9668.8232   357.210310     0.240919   \n",
       "103598        9756  9757.0  1998.9895  9392.6816   357.154859     0.226671   \n",
       "103599        9763  9764.0  2003.9287  9628.6689   357.154604     0.238848   \n",
       "103600         991   992.0  1515.3402   362.1028   357.179816    -0.239324   \n",
       "\n",
       "        MAG_AUTO  MAGERR_AUTO  MAG_BEST  MAGERR_BEST  ...  ERRB_WORLD  \\\n",
       "0            NaN          NaN       NaN          NaN  ...         NaN   \n",
       "1        24.6370       0.3051   24.6370       0.3051  ...    0.000011   \n",
       "2        24.0965       0.2219   24.0965       0.2219  ...    0.000006   \n",
       "3        24.9089       0.4511   24.9089       0.4511  ...    0.000009   \n",
       "4        24.3398       0.3159   24.3398       0.3159  ...    0.000009   \n",
       "...          ...          ...       ...          ...  ...         ...   \n",
       "103596   25.1215       0.2725   25.1215       0.2725  ...    0.000012   \n",
       "103597   25.0175       0.4834   25.0175       0.4834  ...    0.000016   \n",
       "103598   24.6522       0.2776   24.6522       0.2776  ...    0.000011   \n",
       "103599   24.8426       0.3540   24.8426       0.3540  ...    0.000015   \n",
       "103600   23.9632       0.5432   23.9632       0.5432  ...    0.000009   \n",
       "\n",
       "        THETA_J2000  ERRTHETA_J2000  ISOAREA_IMAGE   MU_MAX  FLUX_RADIUS  \\\n",
       "0               NaN             NaN            NaN      NaN          NaN   \n",
       "1             85.15           89.75            6.0  23.5522        1.619   \n",
       "2            -90.00          -90.00            2.0  23.6126        2.422   \n",
       "3            -46.02           18.80            3.0  23.5518        1.410   \n",
       "4             43.82           44.91            5.0  22.9621        1.732   \n",
       "...             ...             ...            ...      ...          ...   \n",
       "103596        45.82           44.98            1.0  23.5814        1.757   \n",
       "103597        81.07           82.30           11.0  24.0934        1.863   \n",
       "103598       -12.98          -13.23            8.0  24.0695        2.592   \n",
       "103599        10.83           10.65           10.0  24.1534        2.171   \n",
       "103600        56.72           57.35           24.0  23.8102        2.360   \n",
       "\n",
       "        FLAGS    TILE  BAND  CUTOUT  \n",
       "0         NaN     NaN   NaN     NaN  \n",
       "1         0.0    4.18     u    c101  \n",
       "2         0.0    4.18     u   c1010  \n",
       "3         0.0    4.18     u   c1016  \n",
       "4         0.0    4.18     u   c1070  \n",
       "...       ...     ...   ...     ...  \n",
       "103596    0.0  714.18     u   c9724  \n",
       "103597    0.0  714.18     u   c9735  \n",
       "103598    0.0  714.18     u   c9756  \n",
       "103599    0.0  714.18     u   c9763  \n",
       "103600    0.0  714.18     u    c991  \n",
       "\n",
       "[103601 rows x 25 columns]"
      ]
     },
     "execution_count": 34,
     "metadata": {},
     "output_type": "execute_result"
    }
   ],
   "source": [
    "pd.read_csv(os.path.expandvars(\"$SCRATCH\") + '/master_catalogue.csv')  "
   ]
  },
  {
   "cell_type": "code",
   "execution_count": 27,
   "metadata": {},
   "outputs": [],
   "source": [
    "tile =  '163.275.u'\n",
    "cat_r = table.Table.read(image_dir + 'CFIS.' + tile + '.cat', format=\"ascii.sextractor\")\n",
    "keys = list(cat_r.keys())"
   ]
  },
  {
   "cell_type": "code",
   "execution_count": 24,
   "metadata": {},
   "outputs": [
    {
     "data": {
      "text/html": [
       "<i>Row index=0</i>\n",
       "<table id=\"table47413627841744\">\n",
       "<thead><tr><th>NUMBER</th><th>X_IMAGE</th><th>Y_IMAGE</th><th>ALPHA_J2000</th><th>DELTA_J2000</th><th>MAG_AUTO</th><th>MAGERR_AUTO</th><th>MAG_BEST</th><th>MAGERR_BEST</th><th>MAG_APER</th><th>MAGERR_APER</th><th>A_WORLD</th><th>ERRA_WORLD</th><th>B_WORLD</th><th>ERRB_WORLD</th><th>THETA_J2000</th><th>ERRTHETA_J2000</th><th>ISOAREA_IMAGE</th><th>MU_MAX</th><th>FLUX_RADIUS</th><th>FLAGS</th></tr></thead>\n",
       "<thead><tr><th></th><th>pix</th><th>pix</th><th>deg</th><th>deg</th><th>mag</th><th>mag</th><th>mag</th><th>mag</th><th>mag</th><th>mag</th><th>deg</th><th>deg</th><th>deg</th><th>deg</th><th>deg</th><th>deg</th><th>pix2</th><th>mag / arcsec2</th><th>pix</th><th></th></tr></thead>\n",
       "<thead><tr><th>int64</th><th>float64</th><th>float64</th><th>float64</th><th>float64</th><th>float64</th><th>float64</th><th>float64</th><th>float64</th><th>float64</th><th>float64</th><th>float64</th><th>float64</th><th>float64</th><th>float64</th><th>float64</th><th>float64</th><th>int64</th><th>float64</th><th>float64</th><th>int64</th></tr></thead>\n",
       "<tr><td>1</td><td>9228.7871</td><td>91.631</td><td>120.3138141</td><td>47.2462688</td><td>21.2819</td><td>0.0369</td><td>21.2819</td><td>0.0369</td><td>21.5467</td><td>0.0271</td><td>0.0004133937</td><td>1.184383e-05</td><td>0.0001700678</td><td>4.608522e-06</td><td>-71.46</td><td>-71.14</td><td>382</td><td>23.0275</td><td>8.228</td><td>0</td></tr>\n",
       "</table>"
      ],
      "text/plain": [
       "<Row index=0>\n",
       "NUMBER  X_IMAGE  Y_IMAGE ALPHA_J2000 DELTA_J2000 MAG_AUTO MAGERR_AUTO MAG_BEST MAGERR_BEST MAG_APER MAGERR_APER   A_WORLD     ERRA_WORLD    B_WORLD     ERRB_WORLD  THETA_J2000 ERRTHETA_J2000 ISOAREA_IMAGE     MU_MAX    FLUX_RADIUS FLAGS\n",
       "          pix      pix       deg         deg       mag        mag       mag        mag       mag        mag         deg          deg          deg          deg          deg          deg            pix2     mag / arcsec2     pix          \n",
       "int64   float64  float64   float64     float64   float64    float64   float64    float64   float64    float64     float64      float64      float64      float64      float64      float64         int64        float64      float64   int64\n",
       "------ --------- ------- ----------- ----------- -------- ----------- -------- ----------- -------- ----------- ------------ ------------ ------------ ------------ ----------- -------------- ------------- ------------- ----------- -----\n",
       "     1 9228.7871  91.631 120.3138141  47.2462688  21.2819      0.0369  21.2819      0.0369  21.5467      0.0271 0.0004133937 1.184383e-05 0.0001700678 4.608522e-06      -71.46         -71.14           382       23.0275       8.228     0"
      ]
     },
     "execution_count": 24,
     "metadata": {},
     "output_type": "execute_result"
    }
   ],
   "source": [
    "data0"
   ]
  },
  {
   "cell_type": "code",
   "execution_count": 21,
   "metadata": {},
   "outputs": [],
   "source": [
    "data0 = cat_r[0]"
   ]
  },
  {
   "cell_type": "code",
   "execution_count": 29,
   "metadata": {},
   "outputs": [],
   "source": [
    "new_cutout = pd.DataFrame(index = [1], data=np.array(data0), columns = keys + ['TILE'] + ['BAND'] + ['CUTOUT'])"
   ]
  },
  {
   "cell_type": "code",
   "execution_count": 10,
   "metadata": {},
   "outputs": [
    {
     "data": {
      "text/plain": [
       "(64, 64, 5)"
      ]
     },
     "execution_count": 10,
     "metadata": {},
     "output_type": "execute_result"
    }
   ],
   "source": [
    "np.array(hf[tile[:-2]+'/IMAGES/c0']).shape"
   ]
  },
  {
   "cell_type": "code",
   "execution_count": 21,
   "metadata": {},
   "outputs": [
    {
     "data": {
      "text/plain": [
       "True"
      ]
     },
     "execution_count": 21,
     "metadata": {},
     "output_type": "execute_result"
    }
   ],
   "source": [
    "a = [10,20,10]\n",
    "b = [1,2,3]\n",
    "10 in a and 10 not in b"
   ]
  },
  {
   "cell_type": "code",
   "execution_count": 14,
   "metadata": {},
   "outputs": [
    {
     "data": {
      "text/html": [
       "<i>Row index=600</i>\n",
       "<table id=\"table47322002130544\">\n",
       "<thead><tr><th>NUMBER</th><th>X_IMAGE</th><th>Y_IMAGE</th><th>ALPHA_J2000</th><th>DELTA_J2000</th><th>MAG_AUTO</th><th>MAGERR_AUTO</th><th>MAG_BEST</th><th>MAGERR_BEST</th><th>MAG_APER</th><th>MAGERR_APER</th><th>A_WORLD</th><th>ERRA_WORLD</th><th>B_WORLD</th><th>ERRB_WORLD</th><th>THETA_J2000</th><th>ERRTHETA_J2000</th><th>ISOAREA_IMAGE</th><th>MU_MAX</th><th>FLUX_RADIUS</th><th>FLAGS</th></tr></thead>\n",
       "<thead><tr><th></th><th>pix</th><th>pix</th><th>deg</th><th>deg</th><th>mag</th><th>mag</th><th>mag</th><th>mag</th><th>mag</th><th>mag</th><th>deg</th><th>deg</th><th>deg</th><th>deg</th><th>deg</th><th>deg</th><th>pix2</th><th>mag / arcsec2</th><th>pix</th><th></th></tr></thead>\n",
       "<thead><tr><th>int64</th><th>float64</th><th>float64</th><th>float64</th><th>float64</th><th>float64</th><th>float64</th><th>float64</th><th>float64</th><th>float64</th><th>float64</th><th>float64</th><th>float64</th><th>float64</th><th>float64</th><th>float64</th><th>float64</th><th>int64</th><th>float64</th><th>float64</th><th>int64</th></tr></thead>\n",
       "<tr><td>601</td><td>8925.7246</td><td>1193.1638</td><td>1.7974242</td><td>-0.1964397</td><td>24.6599</td><td>0.5233</td><td>24.6599</td><td>0.5233</td><td>25.3267</td><td>2.186</td><td>7.917221e-05</td><td>2.004378e-05</td><td>2.926118e-05</td><td>7.438621e-06</td><td>-9.17</td><td>-9.15</td><td>7</td><td>23.808</td><td>1.876</td><td>0</td></tr>\n",
       "</table>"
      ],
      "text/plain": [
       "<Row index=600>\n",
       "NUMBER  X_IMAGE   Y_IMAGE  ALPHA_J2000 DELTA_J2000 MAG_AUTO MAGERR_AUTO MAG_BEST MAGERR_BEST MAG_APER MAGERR_APER   A_WORLD     ERRA_WORLD    B_WORLD     ERRB_WORLD  THETA_J2000 ERRTHETA_J2000 ISOAREA_IMAGE     MU_MAX    FLUX_RADIUS FLAGS\n",
       "          pix       pix        deg         deg       mag        mag       mag        mag       mag        mag         deg          deg          deg          deg          deg          deg            pix2     mag / arcsec2     pix          \n",
       "int64   float64   float64    float64     float64   float64    float64   float64    float64   float64    float64     float64      float64      float64      float64      float64      float64         int64        float64      float64   int64\n",
       "------ --------- --------- ----------- ----------- -------- ----------- -------- ----------- -------- ----------- ------------ ------------ ------------ ------------ ----------- -------------- ------------- ------------- ----------- -----\n",
       "   601 8925.7246 1193.1638   1.7974242  -0.1964397  24.6599      0.5233  24.6599      0.5233  25.3267       2.186 7.917221e-05 2.004378e-05 2.926118e-05 7.438621e-06       -9.17          -9.15             7        23.808       1.876     0"
      ]
     },
     "execution_count": 14,
     "metadata": {},
     "output_type": "execute_result"
    }
   ],
   "source": [
    "cat_r[600][]"
   ]
  },
  {
   "cell_type": "code",
   "execution_count": 17,
   "metadata": {},
   "outputs": [
    {
     "data": {
      "text/plain": [
       "(64, 64)"
      ]
     },
     "execution_count": 17,
     "metadata": {},
     "output_type": "execute_result"
    }
   ],
   "source": [
    "img_group_name = '197.271/IMAGES'\n",
    "j=0\n",
    "filters = [\"CFIS u/\", \"PS1 g/\", \"CFIS r/\", \"PS1 i/\", \"PS1 z/\"]\n",
    "filter_dict = {k:v for v,k in enumerate(filters)}\n",
    "f = 'CFIS u/'\n",
    "hf[img_group_name + f\"/c{j}-r\"][...,filter_dict[f]].shape"
   ]
  },
  {
   "cell_type": "code",
   "execution_count": 17,
   "metadata": {},
   "outputs": [],
   "source": [
    "hf = h5py.File( src, \"r\")"
   ]
  },
  {
   "cell_type": "code",
   "execution_count": 26,
   "metadata": {
    "collapsed": true,
    "jupyter": {
     "outputs_hidden": true
    },
    "tags": []
   },
   "outputs": [
    {
     "data": {
      "image/png": "[encoded data removed]",
      "text/plain": [
       "<Figure size 432x288 with 1 Axes>"
      ]
     },
     "metadata": {
      "needs_background": "light"
     },
     "output_type": "display_data"
    },
    {
     "data": {
      "image/png": "[encoded data removed]",
      "text/plain": [
       "<Figure size 432x288 with 1 Axes>"
      ]
     },
     "metadata": {
      "needs_background": "light"
     },
     "output_type": "display_data"
    },
    {
     "data": {
      "image/png": "[encoded data removed]",
      "text/plain": [
       "<Figure size 432x288 with 1 Axes>"
      ]
     },
     "metadata": {
      "needs_background": "light"
     },
     "output_type": "display_data"
    },
    {
     "data": {
      "image/png": "[encoded data removed]",
      "text/plain": [
       "<Figure size 432x288 with 1 Axes>"
      ]
     },
     "metadata": {
      "needs_background": "light"
     },
     "output_type": "display_data"
    },
    {
     "data": {
      "image/png": "[encoded data removed]",
      "text/plain": [
       "<Figure size 432x288 with 1 Axes>"
      ]
     },
     "metadata": {
      "needs_background": "light"
     },
     "output_type": "display_data"
    }
   ],
   "source": [
    "for i in range(5):\n",
    "    plt.imshow(np.array(hf.get('004.180/IMAGES/c100'))[...,i])\n",
    "    plt.show()"
   ]
  },
  {
   "cell_type": "code",
   "execution_count": 9,
   "metadata": {},
   "outputs": [],
   "source": [
    "hf.close()"
   ]
  },
  {
   "cell_type": "code",
   "execution_count": 36,
   "metadata": {
    "tags": []
   },
   "outputs": [],
   "source": [
    "tile_file = open(image_dir + \"tiles_cand.list\", \"r\")\n",
    "tile_list = tile_file.readlines()\n",
    "for i in range(len(tile_list)):\n",
    "    tile_list[i] = tile_list[i][:-1] # Remove new line characters\n",
    "    #print(tile_list[i])\n",
    "tile_file.close()"
   ]
  },
  {
   "cell_type": "code",
   "execution_count": 28,
   "metadata": {},
   "outputs": [],
   "source": [
    "label_subdirs = [\"stronglensdb_confirmed_unige/\", \"stronglensdb_candidates_unige/\", \"canameras2020/\",\n",
    "                 \"huang2020a_grade_A/\", \"huang2020a_grade_B/\", \"huang2020a_grade_C/\", \n",
    "                 \"huang2020b_grade_A/\", \"huang2020b_grade_B/\", \"huang2020b_grade_C/\"]\n",
    "filters = [\"CFIS u/\", \"PS1 g/\", \"CFIS r/\", \"PS1 i/\", \"PS1 z/\"]\n",
    "filter_dict = {k:v for v,k in enumerate(filters)}"
   ]
  },
  {
   "cell_type": "code",
   "execution_count": 29,
   "metadata": {},
   "outputs": [],
   "source": [
    "len_cat = []\n",
    "count =0 \n",
    "for label_subdir in [label_subdirs[0]]:\n",
    "    for f in [filters[2]]:\n",
    "        subdir = label_dir + label_subdir + f\n",
    "        for csv in os.listdir(subdir):\n",
    "            if csv != \".ipynb_checkpoints\":\n",
    "                #tile_id = csv[:7] \n",
    "                count += 1\n",
    "                #tile_name = f.split(\" \")[0] + \".\" + tile_id + \".\" + f.split(\" \")[1][0]\n",
    "                \n",
    "                #cat = table.Table.read(image_dir+ tile_name + '.cat', format=\"ascii.sextractor\")\n",
    "                #len_cat.append(len(cat))"
   ]
  },
  {
   "cell_type": "code",
   "execution_count": 31,
   "metadata": {},
   "outputs": [
    {
     "data": {
      "text/plain": [
       "103600"
      ]
     },
     "execution_count": 31,
     "metadata": {},
     "output_type": "execute_result"
    }
   ],
   "source": [
    "400*259"
   ]
  },
  {
   "cell_type": "code",
   "execution_count": 10,
   "metadata": {},
   "outputs": [
    {
     "data": {
      "text/plain": [
       "430"
      ]
     },
     "execution_count": 10,
     "metadata": {},
     "output_type": "execute_result"
    }
   ],
   "source": [
    "min(len_cat)"
   ]
  },
  {
   "cell_type": "code",
   "execution_count": 9,
   "metadata": {},
   "outputs": [
    {
     "data": {
      "image/png": "[encoded data removed]",
      "text/plain": [
       "<Figure size 432x288 with 1 Axes>"
      ]
     },
     "metadata": {
      "needs_background": "light"
     },
     "output_type": "display_data"
    }
   ],
   "source": [
    "#number of cutouts per tile for u and r tiles\n",
    "plt.hist(len_cat, bins = 100);"
   ]
  },
  {
   "cell_type": "markdown",
   "metadata": {},
   "source": [
    "right now, taking u confirmed cutouts (and saves coordinates for tile in r later) + new 300 cutouts \n",
    "then for r list, taking new cutout (confirmed in r) + u confirmed in r + 300 same cutouts from u in r"
   ]
  },
  {
   "cell_type": "code",
   "execution_count": 41,
   "metadata": {},
   "outputs": [
    {
     "data": {
      "text/plain": [
       "'452.239_labels.csv'"
      ]
     },
     "execution_count": 41,
     "metadata": {},
     "output_type": "execute_result"
    }
   ],
   "source": [
    "csv\n"
   ]
  },
  {
   "cell_type": "code",
   "execution_count": 65,
   "metadata": {},
   "outputs": [
    {
     "data": {
      "text/plain": [
       "<KeysViewHDF5 []>"
      ]
     },
     "execution_count": 65,
     "metadata": {},
     "output_type": "execute_result"
    }
   ],
   "source": [
    "for i in list(hf.keys()):\n",
    "    del hf[i]\n",
    "hf.keys()"
   ]
  },
  {
   "cell_type": "code",
   "execution_count": 75,
   "metadata": {
    "collapsed": true,
    "jupyter": {
     "outputs_hidden": true
    },
    "tags": []
   },
   "outputs": [
    {
     "name": "stdout",
     "output_type": "stream",
     "text": [
      "labels/stronglensdb_confirmed_unige/CFIS r/\n",
      "197.271_labels.csv\n",
      "248.272_labels.csv\n",
      "203.263_labels.csv\n",
      "165.270_labels.csv\n",
      "201.311_labels.csv\n",
      "241.290_labels.csv\n",
      "204.278_labels.csv\n",
      "147.288_labels.csv\n",
      "260.284_labels.csv\n",
      "234.295_labels.csv\n",
      "206.264_labels.csv\n",
      "254.287_labels.csv\n",
      "246.289_labels.csv\n",
      "228.262_labels.csv\n",
      "070.320_labels.csv\n",
      "340.274_labels.csv\n",
      "246.291_labels.csv\n",
      "403.238_labels.csv\n",
      "269.283_labels.csv\n",
      "238.293_labels.csv\n",
      "230.296_labels.csv\n",
      "188.307_labels.csv\n",
      "164.282_labels.csv\n",
      "264.299_labels.csv\n",
      "236.293_labels.csv\n",
      "442.244_labels.csv\n",
      "211.252_labels.csv\n",
      "407.242_labels.csv\n",
      "162.275_labels.csv\n",
      "238.291_labels.csv\n",
      "424.243_labels.csv\n",
      "175.268_labels.csv\n",
      "203.285_labels.csv\n",
      "245.289_labels.csv\n",
      "249.287_labels.csv\n",
      "243.292_labels.csv\n",
      "261.266_labels.csv\n",
      "175.271_labels.csv\n",
      "253.263_labels.csv\n",
      "349.267_labels.csv\n",
      "266.298_labels.csv\n",
      "380.255_labels.csv\n",
      "245.284_labels.csv\n",
      "253.286_labels.csv\n",
      "264.267_labels.csv\n",
      "259.286_labels.csv\n",
      "226.273_labels.csv\n",
      "267.284_labels.csv\n",
      "204.257_labels.csv\n",
      "262.285_labels.csv\n",
      "201.287_labels.csv\n",
      "258.285_labels.csv\n",
      "328.262_labels.csv\n",
      "222.247_labels.csv\n",
      "186.253_labels.csv\n",
      "379.259_labels.csv\n",
      "232.294_labels.csv\n",
      "276.255_labels.csv\n",
      "159.283_labels.csv\n",
      "235.292_labels.csv\n",
      "196.271_labels.csv\n",
      "294.238_labels.csv\n",
      "260.251_labels.csv\n",
      "229.296_labels.csv\n",
      "358.243_labels.csv\n",
      "245.297_labels.csv\n",
      "370.266_labels.csv\n",
      "204.269_labels.csv\n",
      "262.284_labels.csv\n",
      "273.273_labels.csv\n",
      "261.285_labels.csv\n",
      "217.257_labels.csv\n",
      "233.295_labels.csv\n",
      "199.255_labels.csv\n",
      "243.290_labels.csv\n",
      "068.321_labels.csv\n",
      "297.255_labels.csv\n",
      "319.290_labels.csv\n",
      "245.290_labels.csv\n",
      "239.258_labels.csv\n",
      "336.239_labels.csv\n",
      "268.254_labels.csv\n",
      "375.252_labels.csv\n",
      "167.274_labels.csv\n",
      "244.294_labels.csv\n",
      "337.271_labels.csv\n",
      "272.256_labels.csv\n",
      "403.257_labels.csv\n",
      "212.301_labels.csv\n",
      "166.281_labels.csv\n",
      "333.268_labels.csv\n",
      "213.274_labels.csv\n",
      "351.245_labels.csv\n",
      "183.292_labels.csv\n",
      "378.272_labels.csv\n",
      "244.284_labels.csv\n",
      "347.271_labels.csv\n",
      "247.291_labels.csv\n",
      "300.251_labels.csv\n",
      "240.258_labels.csv\n",
      "168.268_labels.csv\n",
      "229.294_labels.csv\n",
      "154.286_labels.csv\n",
      "147.282_labels.csv\n",
      "156.285_labels.csv\n",
      "164.278_labels.csv\n",
      "342.243_labels.csv\n",
      "195.307_labels.csv\n",
      "196.287_labels.csv\n",
      "374.267_labels.csv\n",
      "267.283_labels.csv\n",
      "299.246_labels.csv\n",
      "205.269_labels.csv\n",
      "330.260_labels.csv\n",
      "292.256_labels.csv\n",
      "263.299_labels.csv\n",
      "051.245_labels.csv\n",
      "231.274_labels.csv\n",
      "154.285_labels.csv\n",
      "214.269_labels.csv\n",
      "256.287_labels.csv\n",
      "264.284_labels.csv\n",
      "352.268_labels.csv\n",
      "406.250_labels.csv\n",
      "240.293_labels.csv\n",
      "272.283_labels.csv\n",
      "232.295_labels.csv\n",
      "194.305_labels.csv\n",
      "238.294_labels.csv\n",
      "195.250_labels.csv\n",
      "230.265_labels.csv\n",
      "236.294_labels.csv\n",
      "275.272_labels.csv\n",
      "277.286_labels.csv\n",
      "163.275_labels.csv\n",
      "242.290_labels.csv\n",
      "231.289_labels.csv\n",
      "179.259_labels.csv\n",
      "296.253_labels.csv\n",
      "230.261_labels.csv\n",
      "355.250_labels.csv\n",
      "244.275_labels.csv\n",
      "216.250_labels.csv\n",
      "386.248_labels.csv\n",
      "219.264_labels.csv\n",
      "257.285_labels.csv\n",
      "238.278_labels.csv\n",
      "227.295_labels.csv\n",
      "230.294_labels.csv\n",
      "263.267_labels.csv\n",
      "237.291_labels.csv\n",
      "393.245_labels.csv\n",
      "193.247_labels.csv\n",
      "342.271_labels.csv\n",
      "244.296_labels.csv\n",
      "392.250_labels.csv\n",
      "197.287_labels.csv\n",
      "452.239_labels.csv\n",
      "labels/stronglensdb_confirmed_unige/CFIS u/\n",
      "197.271_labels.csv\n",
      "248.272_labels.csv\n",
      "203.263_labels.csv\n",
      "165.270_labels.csv\n",
      "314.228_labels.csv\n",
      "640.188_labels.csv\n",
      "050.212_labels.csv\n",
      "206.264_labels.csv\n",
      "228.262_labels.csv\n",
      "324.225_labels.csv\n",
      "009.213_labels.csv\n",
      "358.225_labels.csv\n",
      "248.235_labels.csv\n",
      "661.184_labels.csv\n",
      "340.274_labels.csv\n",
      "346.224_labels.csv\n",
      "222.232_labels.csv\n",
      "361.249_labels.csv\n",
      "367.182_labels.csv\n",
      "403.238_labels.csv\n",
      "683.198_labels.csv\n",
      "164.282_labels.csv\n",
      "264.299_labels.csv\n",
      "290.235_labels.csv\n",
      "690.181_labels.csv\n",
      "356.257_labels.csv\n",
      "442.244_labels.csv\n",
      "669.179_labels.csv\n",
      "211.252_labels.csv\n",
      "407.242_labels.csv\n",
      "162.275_labels.csv\n",
      "337.219_labels.csv\n",
      "382.241_labels.csv\n",
      "417.236_labels.csv\n",
      "424.243_labels.csv\n",
      "662.188_labels.csv\n",
      "036.186_labels.csv\n",
      "175.268_labels.csv\n",
      "209.235_labels.csv\n",
      "203.285_labels.csv\n",
      "328.225_labels.csv\n",
      "335.252_labels.csv\n",
      "667.180_labels.csv\n",
      "261.266_labels.csv\n",
      "398.226_labels.csv\n",
      "175.271_labels.csv\n",
      "253.263_labels.csv\n",
      "259.300_labels.csv\n",
      "327.231_labels.csv\n",
      "670.209_labels.csv\n",
      "033.184_labels.csv\n",
      "266.298_labels.csv\n",
      "295.237_labels.csv\n",
      "022.182_labels.csv\n",
      "380.255_labels.csv\n",
      "679.187_labels.csv\n",
      "374.225_labels.csv\n",
      "226.273_labels.csv\n",
      "204.257_labels.csv\n",
      "201.287_labels.csv\n",
      "057.252_labels.csv\n",
      "346.246_labels.csv\n",
      "328.262_labels.csv\n",
      "210.230_labels.csv\n",
      "222.247_labels.csv\n",
      "692.181_labels.csv\n",
      "356.182_labels.csv\n",
      "193.245_labels.csv\n",
      "186.253_labels.csv\n",
      "714.180_labels.csv\n",
      "339.247_labels.csv\n",
      "381.245_labels.csv\n",
      "282.233_labels.csv\n",
      "379.259_labels.csv\n",
      "276.255_labels.csv\n",
      "223.231_labels.csv\n",
      "196.271_labels.csv\n",
      "294.238_labels.csv\n",
      "260.251_labels.csv\n",
      "447.223_labels.csv\n",
      "326.253_labels.csv\n",
      "238.217_labels.csv\n",
      "358.243_labels.csv\n",
      "370.266_labels.csv\n",
      "204.269_labels.csv\n",
      "661.219_labels.csv\n",
      "469.218_labels.csv\n",
      "671.183_labels.csv\n",
      "217.257_labels.csv\n",
      "199.255_labels.csv\n",
      "386.247_labels.csv\n",
      "297.255_labels.csv\n",
      "319.290_labels.csv\n",
      "239.258_labels.csv\n",
      "336.239_labels.csv\n",
      "086.181_labels.csv\n",
      "651.180_labels.csv\n",
      "268.254_labels.csv\n",
      "018.198_labels.csv\n",
      "375.252_labels.csv\n",
      "167.274_labels.csv\n",
      "337.271_labels.csv\n",
      "034.210_labels.csv\n",
      "448.216_labels.csv\n",
      "272.256_labels.csv\n",
      "403.257_labels.csv\n",
      "641.188_labels.csv\n",
      "166.281_labels.csv\n",
      "333.268_labels.csv\n",
      "553.254_labels.csv\n",
      "229.220_labels.csv\n",
      "351.245_labels.csv\n",
      "183.292_labels.csv\n",
      "378.272_labels.csv\n",
      "347.271_labels.csv\n",
      "349.186_labels.csv\n",
      "300.251_labels.csv\n",
      "240.258_labels.csv\n",
      "168.268_labels.csv\n",
      "252.220_labels.csv\n",
      "224.234_labels.csv\n",
      "147.282_labels.csv\n",
      "345.236_labels.csv\n",
      "164.278_labels.csv\n",
      "342.243_labels.csv\n",
      "196.287_labels.csv\n",
      "013.231_labels.csv\n",
      "014.193_labels.csv\n",
      "033.183_labels.csv\n",
      "374.267_labels.csv\n",
      "299.246_labels.csv\n",
      "205.269_labels.csv\n",
      "330.260_labels.csv\n",
      "292.256_labels.csv\n",
      "373.180_labels.csv\n",
      "263.299_labels.csv\n",
      "051.245_labels.csv\n",
      "231.274_labels.csv\n",
      "214.269_labels.csv\n",
      "711.180_labels.csv\n",
      "329.253_labels.csv\n",
      "352.268_labels.csv\n",
      "352.253_labels.csv\n",
      "406.250_labels.csv\n",
      "369.220_labels.csv\n",
      "472.227_labels.csv\n",
      "372.247_labels.csv\n",
      "265.233_labels.csv\n",
      "662.184_labels.csv\n",
      "195.250_labels.csv\n",
      "296.236_labels.csv\n",
      "644.204_labels.csv\n",
      "698.191_labels.csv\n",
      "230.265_labels.csv\n",
      "326.219_labels.csv\n",
      "659.204_labels.csv\n",
      "163.275_labels.csv\n",
      "013.214_labels.csv\n",
      "179.259_labels.csv\n",
      "296.253_labels.csv\n",
      "004.180_labels.csv\n",
      "464.230_labels.csv\n",
      "230.261_labels.csv\n",
      "450.233_labels.csv\n",
      "355.250_labels.csv\n",
      "375.243_labels.csv\n",
      "327.218_labels.csv\n",
      "244.275_labels.csv\n",
      "216.250_labels.csv\n",
      "386.248_labels.csv\n",
      "219.264_labels.csv\n",
      "353.180_labels.csv\n",
      "238.278_labels.csv\n",
      "359.250_labels.csv\n",
      "712.179_labels.csv\n",
      "033.219_labels.csv\n",
      "056.182_labels.csv\n",
      "348.187_labels.csv\n",
      "393.245_labels.csv\n",
      "193.247_labels.csv\n",
      "667.182_labels.csv\n",
      "342.271_labels.csv\n",
      "395.228_labels.csv\n",
      "360.180_labels.csv\n",
      "638.185_labels.csv\n",
      "392.250_labels.csv\n",
      "197.287_labels.csv\n",
      "667.179_labels.csv\n",
      "042.188_labels.csv\n",
      "659.188_labels.csv\n",
      "452.239_labels.csv\n"
     ]
    }
   ],
   "source": [
    "#clean directory\n",
    "for label_subdir in [label_subdirs[0]]:\n",
    "    for f in [filters[2],filters[0]]:\n",
    "        subdir = label_dir + label_subdir + f\n",
    "        print(subdir)\n",
    "        z = 1\n",
    "        for csv in os.listdir(subdir):\n",
    "            if csv == '.ipynb_checkpoints':\n",
    "                del csv\n",
    "            else:\n",
    "                print(csv)\n",
    "            "
   ]
  },
  {
   "cell_type": "code",
   "execution_count": 66,
   "metadata": {
    "tags": []
   },
   "outputs": [
    {
     "name": "stdout",
     "output_type": "stream",
     "text": [
      "labels/stronglensdb_confirmed_unige/CFIS u/\n",
      "id 297.255\n",
      "should be 0 0\n",
      "new cand\n",
      "done 1\n",
      "2 10131 2\n",
      "2 5747 3\n",
      "done 3\n",
      "Finished stronglensdb_confirmed_unige/\n",
      "labels/stronglensdb_confirmed_unige/CFIS r/\n",
      "id 297.255\n",
      "should be 0 0\n",
      "new cand\n",
      "done 1\n",
      "2 10131 2\n",
      "2 5747 3\n",
      "done 3\n",
      "Finished stronglensdb_confirmed_unige/\n"
     ]
    }
   ],
   "source": [
    "broken_tiles = []\n",
    "prev_conf = {'197.271': None} #dictionary of previously seen tiles\n",
    "cutout_size = 64\n",
    "for label_subdir in [label_subdirs[0]]:\n",
    "    for f in [filters[0],filters[2]]:\n",
    "        subdir = label_dir + label_subdir + f\n",
    "        print(subdir)\n",
    "        z=0\n",
    "        for csv in ['297.255_labels.csv']:\n",
    "            if z < 2:\n",
    "                z+=1\n",
    "                tile_id = csv[:7] # XXX.XXX id\n",
    "                print('id', tile_id)\n",
    "    #                 img_group_name = label_subdir + tile_id + \"/\" + f + \"IMAGES\"\n",
    "    #                 wt_group_name = label_subdir + tile_id + \"/\" + f + \"WEIGHTS\"\n",
    "\n",
    "                img_group_name =  tile_id + \"/\" + \"IMAGES\"\n",
    "                wt_group_name  =  tile_id + \"/\" + \"WEIGHTS\"\n",
    "                tile_name = f.split(\" \")[0] + \".\" + tile_id + \".\" + f.split(\" \")[1][0]\n",
    "               \n",
    "                #FILES\n",
    "                #weight\n",
    "                if \"CFIS\" in f:\n",
    "                    wt_name = \".weight.fits.fz\"\n",
    "                    wt_index = 1\n",
    "                else:\n",
    "                    wt_name = \".wt.fits\"\n",
    "                    wt_index = 0\n",
    "                \n",
    "                #files\n",
    "                img_fits = fits.open(image_dir + tile_name + \".fits\", memmap=True)\n",
    "                wt_fits  = fits.open(image_dir + tile_name + wt_name, memmap=True)\n",
    "                cat = table.Table.read(image_dir + tile_name + '.cat', format=\"ascii.sextractor\")\n",
    "\n",
    "                new_group = False\n",
    "                if img_group_name not in hf:\n",
    "                    new_group = True\n",
    "                    img_group = hf.create_group(img_group_name)\n",
    "                    wt_group = hf.create_group(wt_group_name)\n",
    "\n",
    "                    img_cutout_all = np.random.normal(loc = 0.5,scale= 0.13, size=(cutout_size, cutout_size,5))\n",
    "                    #img_cutout = np.zeros((cutout_size, cutout_size, 5)) \n",
    "                    wt_cutout_all  = np.zeros((cutout_size, cutout_size, 5))\n",
    "\n",
    "                    #generate list of random cutouts\n",
    "                    rand_cutouts = random.sample(range(len(cat)),2)\n",
    "\n",
    "                else:\n",
    "                    img_group = hf[img_group_name]\n",
    "                    wt_group = hf[wt_group_name]\n",
    "\n",
    "                    #want the same cutouts as previous, with previous catalogue (u)\n",
    "                    list_cutouts = list(hf[img_group_name].keys())\n",
    "                    #prev random cutouts\n",
    "                    rand_cutouts = [int((i[1:]).split(\"-\")[0]) for i in list_cutouts if  'u' not in (i[1:]).split(\"-\")] \n",
    "                    #prev confirmed cutouts\n",
    "                    cat_prev = table.Table.read(image_dir + tile_name[:-1] + 'u' + '.cat', format=\"ascii.sextractor\")\n",
    "\n",
    "\n",
    "                #### make cutouts\n",
    "                count = 0 \n",
    "                #candidates cutouts\n",
    "                df = pd.read_csv(subdir + csv)\n",
    "                nlabels = len(df)\n",
    "                \n",
    "            #----create candidate cutout from previous catalogue----#    \n",
    "                if (tile_id + '-0') in prev_conf:\n",
    "                    j = 0 \n",
    "                    try_tile = tile_id + '-0' #first cutout is labelled with 0 for sure\n",
    "                    if try_tile in prev_conf:\n",
    "                        (x,y) =prev_conf[tile_id + '-' + str(count)] \n",
    "                        try:\n",
    "                            (img_cutout, wt_cutout) = create_cutouts(img_fits[0], wt_fits[wt_index], x, y, tile_name[-1])\n",
    "                        except:\n",
    "                            broken_tiles.append(tile_name) \n",
    "                            pass\n",
    "                        \n",
    "                        count += 1\n",
    "                        j+=1\n",
    "                        try_tile = tile_id + f'-{j}'\n",
    "#                         print('previous done')\n",
    "                    else:\n",
    "#                         print('all u cutouts done in r')\n",
    "                         break\n",
    "                    \n",
    "#                     print('onto new confirmed r cutouts')\n",
    "                    \n",
    "            #----create candidate cutout from current catalogue----#    \n",
    "                count = 0\n",
    "                for n in range(nlabels): \n",
    "                    x = df[\"x\"][n]\n",
    "                    y = df[\"y\"][n]\n",
    "                    #save x,y for u channel\n",
    "                    if tile_name[-1] == 'u':\n",
    "                        prev_conf[tile_id + '-' + str(count)] = (x,y)\n",
    "                    #make cutout\n",
    "                    try:\n",
    "                        (img_cutout, wt_cutout) = create_cutouts(img_fits[0], wt_fits[wt_index], x, y, tile_name[-1])\n",
    "                    except:\n",
    "                        broken_tiles.append(tile_name) \n",
    "                        pass\n",
    "\n",
    "                    print('should be 0', count)\n",
    "                    count += 1\n",
    "                    \n",
    "                    print('new cand')\n",
    "                    img_cutout_all[:,:,filter_dict[f]] = img_cutout\n",
    "                    wt_cutout_all[:,:,filter_dict[f]]  = wt_cutout\n",
    "\n",
    "                    img_group.create_dataset(f\"c{n}-\"+tile_name[-1], data=img_cutout_all)\n",
    "                    wt_group.create_dataset(f\"c{n}-\"+tile_name[-1], data=wt_cutout_all)\n",
    "                       \n",
    "                print(f'done {count}')\n",
    "                \n",
    "            #----create extra random cutout from current catalogue----#   \n",
    "                for n in rand_cutouts:\n",
    "                    #if cat[\"FLAGS\"][n] != 0 or cat[\"MAG_AUTO\"][n] >= 99.0 or cat[\"MAGERR_AUTO\"][n] <= 0 or cat[\"MAGERR_AUTO\"][n] >= 1:\n",
    "                    #    continue\n",
    "                \n",
    "                    count += 1\n",
    "                    if new_group is True: #create cutout from current catalogue if new group\n",
    "                        x = cat[\"X_IMAGE\"][n]\n",
    "                        y = cat[\"Y_IMAGE\"][n]\n",
    "                        try:\n",
    "                            (img_cutout, wt_cutout) = create_cutouts(img_fits[0], wt_fits[wt_index], x, y, f[-2])\n",
    "                        except:\n",
    "                            broken_tiles.append(tile_name) \n",
    "                            pass\n",
    "\n",
    "                        img_cutout_all[:,:,filter_dict[f]] = img_cutout\n",
    "                        wt_cutout_all[:,:,filter_dict[f]]  = wt_cutout\n",
    "                        \n",
    "                        img_group.create_dataset(f\"c{n}\", data=img_cutout_all)\n",
    "                        wt_group.create_dataset(f\"c{n}\", data=wt_cutout_all)\n",
    "                    \n",
    "                    else:                 #add cutout to existing group\n",
    "                        x = cat_prev[\"X_IMAGE\"][n]\n",
    "                        y = cat_prev[\"Y_IMAGE\"][n]\n",
    "                        try:\n",
    "                            (img_cutout, wt_cutout) = create_cutouts(img_fits[0], wt_fits[wt_index], x, y, f[-2])\n",
    "                        except:\n",
    "                            broken_tiles.append(tile_name) \n",
    "                            pass\n",
    "\n",
    "                        if img_cutout is None:\n",
    "                            img_cutout = np.random.normal(loc = 0.5,scale= 0.13, size=(cutout_size, cutout_size))\n",
    "                            wt_cutout  = np.zeros((cutout_size, cutout_size))\n",
    "                        else:\n",
    "                            hf[img_group_name + f\"/c{n}\"][...,filter_dict[f]] = img_cutout\n",
    "                            hf[wt_group_name + f\"/c{n}\"][...,filter_dict[f]] = wt_cutout\n",
    "\n",
    "                    print(len(rand_cutouts),n, count)\n",
    "                print(f'done {count}')\n",
    "       \n",
    "                img_fits.close()\n",
    "                wt_fits.close()\n",
    "        print(f\"Finished {label_subdir}\")"
   ]
  },
  {
   "cell_type": "code",
   "execution_count": 73,
   "metadata": {},
   "outputs": [],
   "source": [
    "broken_tiles\n",
    "np.savetxt(\"broken_tiles.csv\", broken_tiles, delimiter =\", \", fmt ='% s')"
   ]
  },
  {
   "cell_type": "code",
   "execution_count": 56,
   "metadata": {},
   "outputs": [
    {
     "data": {
      "text/plain": [
       "<KeysViewHDF5 ['c0-r', 'c0-u', 'c2259', 'c6945']>"
      ]
     },
     "execution_count": 56,
     "metadata": {},
     "output_type": "execute_result"
    }
   ],
   "source": [
    "hf['297.255/WEIGHTS'].keys()"
   ]
  },
  {
   "cell_type": "code",
   "execution_count": 62,
   "metadata": {},
   "outputs": [
    {
     "data": {
      "text/plain": [
       "<matplotlib.image.AxesImage at 0x2b0eb0090df0>"
      ]
     },
     "execution_count": 62,
     "metadata": {},
     "output_type": "execute_result"
    },
    {
     "data": {
      "image/png": "[encoded data removed]",
      "text/plain": [
       "<Figure size 432x288 with 1 Axes>"
      ]
     },
     "metadata": {
      "needs_background": "light"
     },
     "output_type": "display_data"
    }
   ],
   "source": [
    "plt.imshow(np.array(hf['297.255/IMAGES/c6945'])[...,2])"
   ]
  },
  {
   "cell_type": "markdown",
   "metadata": {},
   "source": [
    "---\n",
    "# Testing"
   ]
  },
  {
   "cell_type": "code",
   "execution_count": 79,
   "metadata": {},
   "outputs": [],
   "source": [
    "img_cutout"
   ]
  },
  {
   "cell_type": "code",
   "execution_count": 68,
   "metadata": {},
   "outputs": [
    {
     "data": {
      "text/plain": [
       "(64, 64)"
      ]
     },
     "execution_count": 68,
     "metadata": {},
     "output_type": "execute_result"
    }
   ],
   "source": [
    "plt.imshow(img_cutout.shape"
   ]
  },
  {
   "cell_type": "code",
   "execution_count": 127,
   "metadata": {},
   "outputs": [
    {
     "data": {
      "text/plain": [
       "<KeysViewHDF5 ['050.212', '147.288', '165.270', '197.271', '201.311', '203.263', '204.278', '206.264', '228.262', '234.295', '241.290', '248.272', '260.284', '314.228', '324.225', '640.188']>"
      ]
     },
     "execution_count": 127,
     "metadata": {},
     "output_type": "execute_result"
    }
   ],
   "source": [
    "hf.keys()"
   ]
  },
  {
   "cell_type": "code",
   "execution_count": 133,
   "metadata": {},
   "outputs": [
    {
     "data": {
      "text/plain": [
       "<KeysViewHDF5 ['c0-r', 'c0-u', 'c1861', 'c2418']>"
      ]
     },
     "execution_count": 133,
     "metadata": {},
     "output_type": "execute_result"
    }
   ],
   "source": [
    "hf['165.270/IMAGES'].keys()"
   ]
  },
  {
   "cell_type": "code",
   "execution_count": 134,
   "metadata": {},
   "outputs": [],
   "source": [
    "tile = '165.270'\n",
    "cut  = 'c2644'\n",
    "r_band_only = np.array(hf['165.270/IMAGES/c0-r'])\n",
    "u_band_only = np.array(hf['165.270/IMAGES/c0-u'])\n",
    "tile        = np.array(hf['165.270/IMAGES/c1861'])\n",
    "\n",
    "weight = np.array(hf['165.270/WEIGHTS/c1861'])\n",
    "r_w    = np.array(hf['165.270//WEIGHTS/c0-r'])\n",
    "u_w    = np.array(hf['165.270//WEIGHTS/c0-u'])"
   ]
  },
  {
   "cell_type": "code",
   "execution_count": 135,
   "metadata": {},
   "outputs": [
    {
     "data": {
      "image/png": "[encoded data removed]",
      "text/plain": [
       "<Figure size 432x288 with 30 Axes>"
      ]
     },
     "metadata": {
      "needs_background": "light"
     },
     "output_type": "display_data"
    }
   ],
   "source": [
    "fig, axes = plt.subplots(5, 6)\n",
    "for i in range(5):\n",
    "    axes[i][0].imshow(r_band_only[...,i])\n",
    "    axes[i][1].imshow(u_band_only[...,i])\n",
    "    axes[i][2].imshow(tile[...,i])\n",
    "    axes[i][3].imshow(r_w[...,i])\n",
    "    axes[i][4].imshow(u_w[...,i])\n",
    "    axes[i][5].imshow(weight[...,i])"
   ]
  },
  {
   "cell_type": "code",
   "execution_count": 65,
   "metadata": {},
   "outputs": [
    {
     "data": {
      "text/plain": [
       "'/scratch/anahoban/labelled_cutouts_64p.h5'"
      ]
     },
     "execution_count": 65,
     "metadata": {},
     "output_type": "execute_result"
    }
   ],
   "source": [
    "hf.close()\n",
    "src = os.path.expandvars(\"$SLURM_TMPDIR\") + \"/labelled_cutouts_64p.h5\"\n",
    "dest = os.path.expandvars(\"$SCRATCH\") + \"/\"\n",
    "shutil.copy2(src, dest)"
   ]
  },
  {
   "cell_type": "code",
   "execution_count": 136,
   "metadata": {},
   "outputs": [],
   "source": [
    "hf.close()"
   ]
  },
  {
   "cell_type": "code",
   "execution_count": 8,
   "metadata": {},
   "outputs": [],
   "source": [
    "tile_ids = list(hf.keys())"
   ]
  },
  {
   "cell_type": "code",
   "execution_count": 11,
   "metadata": {},
   "outputs": [
    {
     "name": "stdout",
     "output_type": "stream",
     "text": [
      "103981\n"
     ]
    }
   ],
   "source": [
    "n_cutouts = 0\n",
    "for i in range(len(tile_ids)):\n",
    "    n = len(hf.get(tile_ids[i] + \"/IMAGES\"))\n",
    "    n_cutouts += n\n",
    "print(n_cutouts)\n"
   ]
  },
  {
   "cell_type": "code",
   "execution_count": null,
   "metadata": {},
   "outputs": [],
   "source": []
  }
 ],
 "metadata": {
  "kernelspec": {
   "display_name": "Python 3",
   "language": "python",
   "name": "python3"
  },
  "language_info": {
   "codemirror_mode": {
    "name": "ipython",
    "version": 3
   },
   "file_extension": ".py",
   "mimetype": "text/x-python",
   "name": "python",
   "nbconvert_exporter": "python",
   "pygments_lexer": "ipython3",
   "version": "3.8.2"
  }
 },
 "nbformat": 4,
 "nbformat_minor": 4
}

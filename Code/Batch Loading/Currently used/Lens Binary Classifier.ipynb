{
 "cells": [
  {
   "cell_type": "code",
   "execution_count": 1,
   "metadata": {},
   "outputs": [],
   "source": [
    "import os\n",
    "import shutil\n",
    "import h5py\n",
    "import numpy as np\n",
    "from astropy.nddata.utils import Cutout2D\n",
    "from astropy.io import fits\n",
    "from astropy.table import Table\n",
    "import pandas as pd\n",
    "import matplotlib.pyplot as plt\n",
    "from astropy.visualization import (ZScaleInterval, ImageNormalize)\n",
    "import tensorflow as tf\n",
    "from tensorflow import keras\n",
    "from sklearn.utils import shuffle\n",
    "import umap\n",
    "from sklearn.preprocessing import StandardScaler\n",
    "\n",
    "%load_ext autoreload\n",
    "from functions import *\n",
    "from create_models import *"
   ]
  },
  {
   "cell_type": "markdown",
   "metadata": {},
   "source": [
    "# Create hdf5 files for lenses and non-lenses"
   ]
  },
  {
   "cell_type": "code",
   "execution_count": 2,
   "metadata": {},
   "outputs": [],
   "source": [
    "image_dir = \"/home/anahoban/projects/rrg-kyi/astro/cfis/W3/\"\n",
    "label_dir = \"/home/anahoban/scratch/stronglens/Code/Batch Loading/Currently used/labels/\"\n",
    "label_subdir = \"stronglensdb_confirmed_unige/\""
   ]
  },
  {
   "cell_type": "code",
   "execution_count": 61,
   "metadata": {},
   "outputs": [],
   "source": [
    "# If the hdf5 files already exist\n",
    "cutout_dir = os.path.expandvars(\"$SCRATCH\") + \"/\"\n",
    "hf_pos = h5py.File(cutout_dir + \"labelled_cutouts_64p.h5\", \"r\")\n",
    "hf_neg = h5py.File(cutout_dir + \"random_cutouts_cfis.h5\", \"r\")"
   ]
  },
  {
   "cell_type": "code",
   "execution_count": 4,
   "metadata": {
    "collapsed": true,
    "jupyter": {
     "outputs_hidden": true
    },
    "tags": []
   },
   "outputs": [
    {
     "data": {
      "text/plain": [
       "<KeysViewHDF5 ['000.226', '007.184', '009.202', '013.191', '013.210', '013.259', '022.200', '025.202', '028.228', '035.202', '039.187', '049.186', '050.212', '055.187', '057.187', '068.185', '088.181', '137.285', '151.273', '165.268', '166.268', '182.277', '190.240', '191.263', '191.290', '192.263', '201.289', '202.265', '211.235', '211.286', '214.284', '215.266', '217.283', '219.260', '219.286', '224.251', '225.250', '228.281', '229.267', '239.225', '239.242', '240.233', '244.267', '246.245', '246.257', '249.263', '252.250', '257.232', '268.301', '270.293', '271.293', '272.264', '276.241', '287.297', '288.278', '289.294', '293.263', '299.270', '308.253', '315.266', '318.232', '319.276', '321.237', '325.234', '326.276', '329.270', '333.227', '338.235', '339.233', '341.247', '348.218', '348.238', '352.239', '354.254', '355.264', '361.226', '387.229', '387.259', '388.219', '392.226', '398.222', '399.223', '402.247', '403.223', '407.244', '427.233', '431.243', '431.244', '433.242', '433.253', '435.248', '436.229', '440.224', '441.224', '443.244', '443.248', '449.236', '449.238', '455.225', '458.235', '467.227', '472.219', '490.227', '571.254', '577.245', '586.240', '596.228', '600.221', '600.226', '602.233', '602.246', '603.227', '611.237', '627.193', '628.200', '628.225', '631.188', '635.214', '638.232', '642.204', '645.231', '649.211', '650.216', '657.193', '658.192', '660.182', '661.190', '661.193', '662.190', '663.226', '665.217', '673.181', '676.186', '684.204', '685.204', '685.207', '698.184', '705.192', '706.190', '712.179', '714.184']>"
      ]
     },
     "execution_count": 4,
     "metadata": {},
     "output_type": "execute_result"
    }
   ],
   "source": [
    "hf_pos['canameras2020'].keys()"
   ]
  },
  {
   "cell_type": "code",
   "execution_count": 5,
   "metadata": {},
   "outputs": [
    {
     "data": {
      "text/plain": [
       "(64, 64)"
      ]
     },
     "execution_count": 5,
     "metadata": {},
     "output_type": "execute_result"
    }
   ],
   "source": [
    "np.array(hf_pos['canameras2020/000.226/CFIS u/IMAGES/000.2260']).shape"
   ]
  },
  {
   "cell_type": "code",
   "execution_count": 4,
   "metadata": {},
   "outputs": [
    {
     "name": "stdout",
     "output_type": "stream",
     "text": [
      "there are 1312 positive cutouts\n"
     ]
    }
   ],
   "source": [
    "n=0\n",
    "for cat in hf_pos.keys():\n",
    "    for cut in hf_pos[cat].keys():\n",
    "        n += 1\n",
    "print(f'there are {n} positive cutouts')\n",
    "\n",
    "n_pos= n"
   ]
  },
  {
   "cell_type": "code",
   "execution_count": 5,
   "metadata": {},
   "outputs": [],
   "source": [
    "filters = [\"CFIS u/\", \"PS1 g/\", \"CFIS r/\", \"PS1 i/\", \"PS1 z/\"]\n",
    "filter_dict = {k:v for v,k in enumerate(filters)}"
   ]
  },
  {
   "cell_type": "markdown",
   "metadata": {},
   "source": [
    "---- \n",
    "### To create the files"
   ]
  },
  {
   "cell_type": "code",
   "execution_count": 84,
   "metadata": {},
   "outputs": [],
   "source": [
    "hf_neg.close()\n",
    "#hf_pos.close()"
   ]
  },
  {
   "cell_type": "code",
   "execution_count": 85,
   "metadata": {},
   "outputs": [],
   "source": [
    "# If the hdf5 files do not exist\n",
    "src = os.path.expandvars(\"$SCRATCH\") + \"/\"\n",
    "hf_neg = h5py.File(src + \"random_cutouts_cfis.h5\", \"w\")"
   ]
  },
  {
   "cell_type": "code",
   "execution_count": 86,
   "metadata": {
    "tags": []
   },
   "outputs": [],
   "source": [
    "tile_list = open(image_dir + \"tiles.list\", \"r\")\n",
    "tile_files = tile_list.readlines()\n",
    "for i in range(len(tile_files)):\n",
    "    tile_files[i] = tile_files[i][:-1]\n",
    "    #print(tile_files[i])\n",
    "tile_list.close()"
   ]
  },
  {
   "cell_type": "code",
   "execution_count": 87,
   "metadata": {
    "tags": []
   },
   "outputs": [],
   "source": [
    "tile_id = \"157.275\"\n",
    "shutil.copy2(image_dir + f\"CFIS.{tile_id}.u.fits\", cutout_dir)\n",
    "#shutil.copy2(image_dir + f\"PS1.{tile_id}.g.fits\", cutout_dir)\n",
    "shutil.copy2(image_dir + f\"CFIS.{tile_id}.r.fits\", cutout_dir)\n",
    "#shutil.copy2(image_dir + f\"PS1.{tile_id}.i.fits\", cutout_dir)\n",
    "#shutil.copy2(image_dir + f\"PS1.{tile_id}.z.fits\", cutout_dir)\n",
    "shutil.copy2(image_dir + f\"CFIS.{tile_id}.r.cat\", cutout_dir)\n",
    "u_image = cutout_dir + f\"CFIS.{tile_id}.u.fits\"\n",
    "#g_image = cutout_dir + f\"PS1.{tile_id}.g.fits\"\n",
    "r_image = cutout_dir + f\"CFIS.{tile_id}.r.fits\"\n",
    "#i_image = cutout_dir + f\"PS1.{tile_id}.i.fits\"\n",
    "#z_image = cutout_dir + f\"PS1.{tile_id}.z.fits\""
   ]
  },
  {
   "cell_type": "code",
   "execution_count": 88,
   "metadata": {},
   "outputs": [],
   "source": [
    "def get_negative_cutouts():\n",
    "    n_negative = 288\n",
    "    u_fits = fits.open(u_image, memmap=True)\n",
    "    #g_fits = fits.open(g_image, memmap=True)\n",
    "    r_fits = fits.open(r_image, memmap=True)\n",
    "    #i_fits = fits.open(i_image, memmap=True)\n",
    "    #z_fits = fits.open(z_image, memmap=True)\n",
    "    cat = Table.read(cutout_dir + f\"CFIS.{tile_id}.r.cat\", format=\"ascii.sextractor\")\n",
    "    n = 0\n",
    "    for i in range(len(cat)):\n",
    "        cutout = np.zeros((cutout_size, cutout_size, 5))\n",
    "        if cat[\"FLAGS\"][i] != 0 or cat[\"MAG_AUTO\"][i] >= 99.0 or cat[\"MAGERR_AUTO\"][i] <= 0 or cat[\"MAGERR_AUTO\"][i] >= 1:\n",
    "            continue\n",
    "        x = cat[\"X_IMAGE\"][i]\n",
    "        y = cat[\"Y_IMAGE\"][i]\n",
    "        \n",
    "        u_cutout = create_cutout(u_fits, x, y)\n",
    "        if u_cutout is None:\n",
    "            continue\n",
    "        #g_cutout = create_cutout(g_fits, x, y)\n",
    "        #if g_cutout is None:\n",
    "        #    continue\n",
    "        r_cutout = create_cutout(r_fits, x, y)\n",
    "        if r_cutout is None:\n",
    "            continue\n",
    "        #i_cutout = create_cutout(i_fits, x, y)\n",
    "        #if i_cutout is None:\n",
    "        #    continue\n",
    "        #z_cutout = create_cutout(z_fits, x, y)\n",
    "        #if z_cutout is None:\n",
    "        #    continue\n",
    "        cutout[:,:,0] = u_cutout\n",
    "        #cutout[:,:,1] = g_cutout\n",
    "        cutout[:,:,2] = r_cutout\n",
    "        #cutout[:,:,3] = i_cutout\n",
    "        #cutout[:,:,4] = z_cutout\n",
    "        hf_neg.create_dataset(f\"cutout{n}\", data=cutout)\n",
    "        n += 1\n",
    "        if n == n_negative:\n",
    "            u_fits.close()\n",
    "            #g_fits.close()\n",
    "            r_fits.close()\n",
    "            #i_fits.close()\n",
    "            #z_fits.close()\n",
    "            return"
   ]
  },
  {
   "cell_type": "code",
   "execution_count": 89,
   "metadata": {},
   "outputs": [],
   "source": [
    "#not necessary if file already exists\n",
    "get_negative_cutouts()\n",
    "\n",
    "hf_neg.close()\n",
    "\n",
    "hf_neg = h5py.File(cutout_dir + \"random_cutouts_cfis.h5\", \"r\")"
   ]
  },
  {
   "cell_type": "code",
   "execution_count": 90,
   "metadata": {
    "tags": []
   },
   "outputs": [
    {
     "data": {
      "text/plain": [
       "array(64)"
      ]
     },
     "execution_count": 90,
     "metadata": {},
     "output_type": "execute_result"
    }
   ],
   "source": [
    "np.array(len(hf_neg['cutout0']))"
   ]
  },
  {
   "cell_type": "markdown",
   "metadata": {},
   "source": [
    "---"
   ]
  },
  {
   "cell_type": "code",
   "execution_count": 6,
   "metadata": {},
   "outputs": [],
   "source": [
    "from functions import get_confirmed_cutouts"
   ]
  },
  {
   "cell_type": "code",
   "execution_count": 7,
   "metadata": {},
   "outputs": [],
   "source": [
    "%autoreload\n",
    "cutout_size = 64\n",
    "confirmed_cutouts = get_confirmed_cutouts(hf_pos,filter_dict,label_dir,label_subdir)"
   ]
  },
  {
   "cell_type": "markdown",
   "metadata": {},
   "source": [
    "# Create and train classifier"
   ]
  },
  {
   "cell_type": "code",
   "execution_count": 8,
   "metadata": {},
   "outputs": [],
   "source": [
    "def get_cutouts(pos_start, pos_end, neg_start, neg_end, batch_size):\n",
    "    ratio = (neg_end - neg_start) // (pos_end - pos_start)\n",
    "    b = 0 # counter for batch\n",
    "    cutouts =  np.random.normal(loc = 0.5,scale= 0.13, size=(batch_size, cutout_size, cutout_size,4))\n",
    "    labels = np.zeros(batch_size)\n",
    "    pos_index = pos_start\n",
    "    neg_index = neg_start\n",
    "    count = 0\n",
    "    while True:\n",
    "        if count > 0 and count % ratio == 0:\n",
    "            cutouts[b,:,:,0] = confirmed_cutouts[pos_index][...,0]\n",
    "            labels[b] = 1\n",
    "            pos_index += 1\n",
    "            if pos_index == pos_end:\n",
    "                pos_index = pos_start\n",
    "            b += 1\n",
    "            if b == batch_size:\n",
    "                b = 0\n",
    "                new_shape = cutout_size*cutout_size*4\n",
    "                cutouts_scaled = StandardScaler().fit_transform(cutouts.reshape(batch_size, new_shape))\n",
    "                yield (cutouts_scaled.reshape(cutouts.shape), labels)\n",
    "        else:\n",
    "            cutouts[b,:,:,:2] = np.array(hf_neg.get(f\"cutout{neg_index}\"))[...,[0,2]]\n",
    "            labels[b] = 0\n",
    "            neg_index += 1\n",
    "            if neg_index == neg_end:\n",
    "                neg_index = neg_start\n",
    "            b += 1\n",
    "            if b == batch_size:\n",
    "                b = 0\n",
    "                new_shape = cutout_size*cutout_size*4\n",
    "                cutouts_scaled = StandardScaler().fit_transform(cutouts.reshape(batch_size, new_shape))\n",
    "                yield (cutouts_scaled.reshape(cutouts.shape), labels)\n",
    "        count += 1"
   ]
  },
  {
   "cell_type": "code",
   "execution_count": 9,
   "metadata": {},
   "outputs": [],
   "source": [
    "def train_classifier(model, n_epochs, batch_size):\n",
    "    num_cutouts_train_neg = int(0.7*len(hf_neg))\n",
    "    neg_start_train = 0\n",
    "    neg_end_train = num_cutouts_train_neg\n",
    "    neg_start_val = num_cutouts_train_neg\n",
    "    neg_end_val = int(0.9*len(hf_neg))\n",
    "\n",
    "    num_cutouts_train_pos = int(0.7*len(confirmed_cutouts))\n",
    "    pos_start_train = 0\n",
    "    pos_end_train = num_cutouts_train_pos\n",
    "    pos_start_val = num_cutouts_train_pos\n",
    "    pos_end_val = int(0.9*len(confirmed_cutouts))\n",
    "\n",
    "    train_steps = (neg_end_train + pos_end_train) // batch_size\n",
    "    val_steps = ((neg_end_val - neg_start_val) + (pos_end_val - pos_start_val)) // batch_size\n",
    "    neg_weight = (num_cutouts_train_neg + num_cutouts_train_pos) / num_cutouts_train_neg\n",
    "    pos_weight = (num_cutouts_train_neg + num_cutouts_train_pos) / num_cutouts_train_pos\n",
    "    class_weight = {0: neg_weight, 1: pos_weight}\n",
    "    history = model.fit(get_cutouts(pos_start_train, pos_end_train, neg_start_train, neg_end_train, batch_size), \n",
    "                        epochs=n_epochs, steps_per_epoch=train_steps, \n",
    "                        validation_data=get_cutouts(pos_start_val, pos_end_val, neg_start_val, neg_end_val, batch_size), \n",
    "                        validation_steps=val_steps, callbacks=[callback], class_weight=class_weight)\n",
    "    return model, history\n",
    "\n",
    "def evaluate_model(model, x_test, y_test):\n",
    "    test_loss, test_acc = model.evaluate(x_test, y_test)\n",
    "    y_predict = model.predict(x_test)\n",
    "    plt.hist(y_predict)\n",
    "    print(\"Lowest 10 scores:\")\n",
    "    print(sorted(y_predict)[:10])\n",
    "    print()\n",
    "    print(\"Highest 10 scores:\")\n",
    "    print()\n",
    "    print(sorted(y_predict)[-10:])\n",
    "    conf = tf.math.confusion_matrix(y_test, y_predict)\n",
    "    print(f\"Confusion Matrix:\\n {conf}\")\n",
    "    print(\"Test loss: %.3f\" % test_loss)\n",
    "    print(\"Test accuracy: %3f\" % test_acc)\n",
    "    return y_predict"
   ]
  },
  {
   "cell_type": "markdown",
   "metadata": {},
   "source": [
    "def custom_loss_all(y_true, y_pred):\n",
    "    return keras.losses.MSE(y_true*np.sqrt(weights_all), y_pred*np.sqrt(weights_all))"
   ]
  },
  {
   "cell_type": "code",
   "execution_count": 10,
   "metadata": {},
   "outputs": [],
   "source": [
    "bands = 2\n",
    "def MSE_with_uncertainty(y_true, y_pred): \n",
    "    weights = y_pred[...,bands:] \n",
    "    y_pred_image = y_pred[...,:bands]\n",
    "    \n",
    "    return K.square(tf.math.multiply((y_true - y_pred_image), weights) )"
   ]
  },
  {
   "cell_type": "code",
   "execution_count": 11,
   "metadata": {},
   "outputs": [],
   "source": [
    "autoencoder_cfis = keras.models.load_model(\"../Models/job15.h5\", custom_objects={'MSE_with_uncertainty': MSE_with_uncertainty})\n",
    "encoder = keras.Model(autoencoder_cfis.input, autoencoder_cfis.layers[7].output)"
   ]
  },
  {
   "cell_type": "code",
   "execution_count": 12,
   "metadata": {},
   "outputs": [],
   "source": [
    "for i in range(len(encoder.layers)):\n",
    "    encoder.layers[i].trainable = False"
   ]
  },
  {
   "cell_type": "code",
   "execution_count": 52,
   "metadata": {},
   "outputs": [],
   "source": [
    "def scheduler(epoch, lr):\n",
    "    if epoch < 10:\n",
    "        return lr\n",
    "    else:\n",
    "        return lr*tf.math.exp(-0.1)\n",
    "    \n",
    "def step_decay(epoch):\n",
    "    initial_lrate = 5e-6\n",
    "    drop = 0.5\n",
    "    epochs_drop = 10.0\n",
    "    lrate = initial_lrate * tf.math.pow(drop,  \n",
    "           tf.math.floor((1+epoch)/epochs_drop))\n",
    "    return lrate"
   ]
  },
  {
   "cell_type": "code",
   "execution_count": 14,
   "metadata": {},
   "outputs": [],
   "source": [
    "#classifier = keras.models.load_model(\"../Models/binary_classifier\")"
   ]
  },
  {
   "cell_type": "code",
   "execution_count": 17,
   "metadata": {
    "tags": []
   },
   "outputs": [
    {
     "name": "stdout",
     "output_type": "stream",
     "text": [
      "Model: \"sequential\"\n",
      "_________________________________________________________________\n",
      "Layer (type)                 Output Shape              Param #   \n",
      "=================================================================\n",
      "functional_1 (Functional)    (None, 64, 64, 32)        736       \n",
      "_________________________________________________________________\n",
      "flatten (Flatten)            (None, 131072)            0         \n",
      "_________________________________________________________________\n",
      "dense (Dense)                (None, 1000)              131073000 \n",
      "_________________________________________________________________\n",
      "dense_1 (Dense)              (None, 64)                64064     \n",
      "_________________________________________________________________\n",
      "dense_2 (Dense)              (None, 32)                2080      \n",
      "_________________________________________________________________\n",
      "dense_3 (Dense)              (None, 1)                 33        \n",
      "=================================================================\n",
      "Total params: 131,139,913\n",
      "Trainable params: 131,139,177\n",
      "Non-trainable params: 736\n",
      "_________________________________________________________________\n"
     ]
    }
   ],
   "source": [
    "classifier.summary()"
   ]
  },
  {
   "cell_type": "code",
   "execution_count": null,
   "metadata": {
    "tags": []
   },
   "outputs": [],
   "source": [
    "#keras.utils.plot_model(classifier, to_file=\"../Models/binary_classifier.png\", show_shapes=True, show_layer_names=True)"
   ]
  },
  {
   "cell_type": "code",
   "execution_count": 76,
   "metadata": {},
   "outputs": [],
   "source": [
    "%autoreload\n",
    "cutout_size = 64\n",
    "classifier = create_classifier(encoder)\n",
    "optimizer = keras.optimizers.Adam(learning_rate=1e-9)\n",
    "callback = keras.callbacks.LearningRateScheduler(scheduler)\n",
    "classifier.compile(optimizer=optimizer, loss=\"binary_crossentropy\", metrics=\"accuracy\")"
   ]
  },
  {
   "cell_type": "code",
   "execution_count": 77,
   "metadata": {
    "collapsed": true,
    "jupyter": {
     "outputs_hidden": true
    },
    "tags": []
   },
   "outputs": [
    {
     "name": "stdout",
     "output_type": "stream",
     "text": [
      "Epoch 1/70\n",
      " 1/50 [..............................] - ETA: 0s - loss: 3.2257 - accuracy: 0.7500WARNING:tensorflow:Callbacks method `on_train_batch_end` is slow compared to the batch time (batch time: 0.0087s vs `on_train_batch_end` time: 0.0131s). Check your callbacks.\n",
      "50/50 [==============================] - 1s 28ms/step - loss: 5.9052 - accuracy: 0.6375 - val_loss: 2.7986 - val_accuracy: 0.5089\n",
      "Epoch 2/70\n",
      "50/50 [==============================] - 1s 25ms/step - loss: 5.3714 - accuracy: 0.6250 - val_loss: 1.9373 - val_accuracy: 0.5804\n",
      "Epoch 3/70\n",
      "50/50 [==============================] - 1s 25ms/step - loss: 4.7393 - accuracy: 0.6450 - val_loss: 2.0622 - val_accuracy: 0.5714\n",
      "Epoch 4/70\n",
      "50/50 [==============================] - 1s 25ms/step - loss: 4.1124 - accuracy: 0.6750 - val_loss: 1.2730 - val_accuracy: 0.6518\n",
      "Epoch 5/70\n",
      "50/50 [==============================] - 1s 25ms/step - loss: 2.9991 - accuracy: 0.6975 - val_loss: 1.6528 - val_accuracy: 0.6429\n",
      "Epoch 6/70\n",
      "50/50 [==============================] - 1s 25ms/step - loss: 2.3963 - accuracy: 0.6875 - val_loss: 0.9650 - val_accuracy: 0.7143\n",
      "Epoch 7/70\n",
      "50/50 [==============================] - 1s 25ms/step - loss: 1.9918 - accuracy: 0.7050 - val_loss: 1.2753 - val_accuracy: 0.6696\n",
      "Epoch 8/70\n",
      "50/50 [==============================] - 1s 25ms/step - loss: 1.6994 - accuracy: 0.7475 - val_loss: 0.8735 - val_accuracy: 0.7500\n",
      "Epoch 9/70\n",
      "50/50 [==============================] - 1s 25ms/step - loss: 1.1946 - accuracy: 0.7925 - val_loss: 1.0372 - val_accuracy: 0.6875\n",
      "Epoch 10/70\n",
      "50/50 [==============================] - 1s 25ms/step - loss: 1.0489 - accuracy: 0.8225 - val_loss: 0.8002 - val_accuracy: 0.7500\n",
      "Epoch 11/70\n",
      "50/50 [==============================] - 1s 25ms/step - loss: 1.0140 - accuracy: 0.8250 - val_loss: 0.8691 - val_accuracy: 0.7143\n",
      "Epoch 12/70\n",
      "50/50 [==============================] - 1s 25ms/step - loss: 1.1097 - accuracy: 0.8375 - val_loss: 0.7631 - val_accuracy: 0.7500\n",
      "Epoch 13/70\n",
      "50/50 [==============================] - 1s 25ms/step - loss: 0.8661 - accuracy: 0.8500 - val_loss: 0.8015 - val_accuracy: 0.7411\n",
      "Epoch 14/70\n",
      "50/50 [==============================] - 1s 25ms/step - loss: 0.7709 - accuracy: 0.8550 - val_loss: 0.7252 - val_accuracy: 0.7500\n",
      "Epoch 15/70\n",
      "50/50 [==============================] - 1s 25ms/step - loss: 0.7836 - accuracy: 0.8600 - val_loss: 0.8244 - val_accuracy: 0.7411\n",
      "Epoch 16/70\n",
      "50/50 [==============================] - 1s 25ms/step - loss: 0.9655 - accuracy: 0.8550 - val_loss: 0.6506 - val_accuracy: 0.767992 - accuracy: 0.85\n",
      "Epoch 17/70\n",
      "50/50 [==============================] - 1s 25ms/step - loss: 0.7574 - accuracy: 0.8650 - val_loss: 0.8824 - val_accuracy: 0.7232\n",
      "Epoch 18/70\n",
      "50/50 [==============================] - 1s 25ms/step - loss: 0.6765 - accuracy: 0.8725 - val_loss: 0.6244 - val_accuracy: 0.7768\n",
      "Epoch 19/70\n",
      "50/50 [==============================] - 1s 25ms/step - loss: 0.7028 - accuracy: 0.8750 - val_loss: 0.8179 - val_accuracy: 0.7321\n",
      "Epoch 20/70\n",
      "50/50 [==============================] - 1s 25ms/step - loss: 0.8904 - accuracy: 0.8650 - val_loss: 0.6587 - val_accuracy: 0.7768\n",
      "Epoch 21/70\n",
      "50/50 [==============================] - 1s 25ms/step - loss: 0.7107 - accuracy: 0.8750 - val_loss: 0.8058 - val_accuracy: 0.7321\n",
      "Epoch 22/70\n",
      "50/50 [==============================] - 1s 25ms/step - loss: 0.6295 - accuracy: 0.8800 - val_loss: 0.6648 - val_accuracy: 0.7679\n",
      "Epoch 23/70\n",
      "50/50 [==============================] - 1s 25ms/step - loss: 0.6623 - accuracy: 0.8800 - val_loss: 0.7452 - val_accuracy: 0.7500\n",
      "Epoch 24/70\n",
      "50/50 [==============================] - 1s 25ms/step - loss: 0.8494 - accuracy: 0.8700 - val_loss: 0.6857 - val_accuracy: 0.7679\n",
      "Epoch 25/70\n",
      "50/50 [==============================] - 1s 25ms/step - loss: 0.6980 - accuracy: 0.8725 - val_loss: 0.7249 - val_accuracy: 0.7589\n",
      "Epoch 26/70\n",
      "50/50 [==============================] - 2s 30ms/step - loss: 0.6084 - accuracy: 0.8800 - val_loss: 0.7062 - val_accuracy: 0.7768\n",
      "Epoch 27/70\n",
      "50/50 [==============================] - 1s 25ms/step - loss: 0.6332 - accuracy: 0.8825 - val_loss: 0.6521 - val_accuracy: 0.7589\n",
      "Epoch 28/70\n",
      "50/50 [==============================] - 1s 25ms/step - loss: 0.8243 - accuracy: 0.8725 - val_loss: 0.7497 - val_accuracy: 0.7768\n",
      "Epoch 29/70\n",
      "50/50 [==============================] - 1s 25ms/step - loss: 0.6973 - accuracy: 0.8725 - val_loss: 0.6451 - val_accuracy: 0.7679\n",
      "Epoch 30/70\n",
      "50/50 [==============================] - 1s 25ms/step - loss: 0.5875 - accuracy: 0.8825 - val_loss: 0.7327 - val_accuracy: 0.7679\n",
      "Epoch 31/70\n",
      "50/50 [==============================] - 1s 25ms/step - loss: 0.6295 - accuracy: 0.8825 - val_loss: 0.5976 - val_accuracy: 0.7768\n",
      "Epoch 32/70\n",
      "50/50 [==============================] - 1s 25ms/step - loss: 0.8256 - accuracy: 0.8700 - val_loss: 0.8062 - val_accuracy: 0.7500- loss: 0.8350 - accuracy: 0.\n",
      "Epoch 33/70\n",
      "50/50 [==============================] - 1s 25ms/step - loss: 0.6826 - accuracy: 0.8775 - val_loss: 0.5955 - val_accuracy: 0.7768\n",
      "Epoch 34/70\n",
      "50/50 [==============================] - 1s 25ms/step - loss: 0.5834 - accuracy: 0.8850 - val_loss: 0.8130 - val_accuracy: 0.7500\n",
      "Epoch 35/70\n",
      "50/50 [==============================] - 1s 25ms/step - loss: 0.6323 - accuracy: 0.8775 - val_loss: 0.6025 - val_accuracy: 0.7857\n",
      "Epoch 36/70\n",
      "50/50 [==============================] - 1s 25ms/step - loss: 0.7828 - accuracy: 0.8725 - val_loss: 0.7815 - val_accuracy: 0.7589\n",
      "Epoch 37/70\n",
      "50/50 [==============================] - 1s 25ms/step - loss: 0.7109 - accuracy: 0.8800 - val_loss: 0.6458 - val_accuracy: 0.7679\n",
      "Epoch 38/70\n",
      "50/50 [==============================] - 1s 25ms/step - loss: 0.5818 - accuracy: 0.8850 - val_loss: 0.7522 - val_accuracy: 0.7679\n",
      "Epoch 39/70\n",
      "50/50 [==============================] - 1s 25ms/step - loss: 0.6361 - accuracy: 0.8750 - val_loss: 0.6317 - val_accuracy: 0.7679\n",
      "Epoch 40/70\n",
      "50/50 [==============================] - 1s 25ms/step - loss: 0.7805 - accuracy: 0.8725 - val_loss: 0.6949 - val_accuracy: 0.7768\n",
      "Epoch 41/70\n",
      "50/50 [==============================] - 1s 25ms/step - loss: 0.7008 - accuracy: 0.8825 - val_loss: 0.6737 - val_accuracy: 0.7589\n",
      "Epoch 42/70\n",
      "50/50 [==============================] - 1s 25ms/step - loss: 0.5882 - accuracy: 0.8825 - val_loss: 0.6800 - val_accuracy: 0.7857\n",
      "Epoch 43/70\n",
      "50/50 [==============================] - 1s 25ms/step - loss: 0.6278 - accuracy: 0.8775 - val_loss: 0.6539 - val_accuracy: 0.7500\n",
      "Epoch 44/70\n",
      "50/50 [==============================] - 1s 25ms/step - loss: 0.7792 - accuracy: 0.8725 - val_loss: 0.7392 - val_accuracy: 0.7768\n",
      "Epoch 45/70\n",
      "50/50 [==============================] - 1s 25ms/step - loss: 0.6999 - accuracy: 0.8825 - val_loss: 0.6034 - val_accuracy: 0.7679\n",
      "Epoch 46/70\n",
      "50/50 [==============================] - 1s 25ms/step - loss: 0.5916 - accuracy: 0.8825 - val_loss: 0.8206 - val_accuracy: 0.7500\n",
      "Epoch 47/70\n",
      "50/50 [==============================] - 1s 25ms/step - loss: 0.6262 - accuracy: 0.8775 - val_loss: 0.5892 - val_accuracy: 0.7768\n",
      "Epoch 48/70\n",
      "50/50 [==============================] - 1s 27ms/step - loss: 0.7771 - accuracy: 0.8725 - val_loss: 0.7759 - val_accuracy: 0.7589\n",
      "Epoch 49/70\n",
      "50/50 [==============================] - 1s 25ms/step - loss: 0.6988 - accuracy: 0.8825 - val_loss: 0.6342 - val_accuracy: 0.7768\n",
      "Epoch 50/70\n",
      "50/50 [==============================] - 1s 25ms/step - loss: 0.5975 - accuracy: 0.8825 - val_loss: 0.7752 - val_accuracy: 0.7500\n",
      "Epoch 51/70\n",
      "50/50 [==============================] - 1s 25ms/step - loss: 0.6200 - accuracy: 0.8775 - val_loss: 0.6466 - val_accuracy: 0.7768\n",
      "Epoch 52/70\n",
      "50/50 [==============================] - 1s 25ms/step - loss: 0.7767 - accuracy: 0.8725 - val_loss: 0.7260 - val_accuracy: 0.7679\n",
      "Epoch 53/70\n",
      "50/50 [==============================] - 1s 25ms/step - loss: 0.7063 - accuracy: 0.8800 - val_loss: 0.6712 - val_accuracy: 0.7679\n",
      "Epoch 54/70\n",
      "50/50 [==============================] - 1s 25ms/step - loss: 0.5973 - accuracy: 0.8825 - val_loss: 0.7119 - val_accuracy: 0.7589\n",
      "Epoch 55/70\n",
      "50/50 [==============================] - 1s 26ms/step - loss: 0.6199 - accuracy: 0.8775 - val_loss: 0.6951 - val_accuracy: 0.7768\n",
      "Epoch 56/70\n",
      "50/50 [==============================] - 1s 26ms/step - loss: 0.7668 - accuracy: 0.8750 - val_loss: 0.6435 - val_accuracy: 0.7589\n",
      "Epoch 57/70\n",
      "50/50 [==============================] - 1s 29ms/step - loss: 0.6966 - accuracy: 0.8825 - val_loss: 0.7419 - val_accuracy: 0.7768\n",
      "Epoch 58/70\n",
      "50/50 [==============================] - 1s 26ms/step - loss: 0.6065 - accuracy: 0.8800 - val_loss: 0.6400 - val_accuracy: 0.7679\n",
      "Epoch 59/70\n",
      "50/50 [==============================] - 1s 26ms/step - loss: 0.6248 - accuracy: 0.8775 - val_loss: 0.7259 - val_accuracy: 0.7679\n",
      "Epoch 60/70\n",
      "50/50 [==============================] - 1s 25ms/step - loss: 0.7641 - accuracy: 0.8750 - val_loss: 0.5942 - val_accuracy: 0.7768\n",
      "Epoch 61/70\n",
      "50/50 [==============================] - 1s 26ms/step - loss: 0.7038 - accuracy: 0.8800 - val_loss: 0.8012 - val_accuracy: 0.7500\n",
      "Epoch 62/70\n",
      "50/50 [==============================] - 1s 25ms/step - loss: 0.6010 - accuracy: 0.8825 - val_loss: 0.5933 - val_accuracy: 0.7768\n",
      "Epoch 63/70\n",
      "50/50 [==============================] - 1s 25ms/step - loss: 0.6076 - accuracy: 0.8800 - val_loss: 0.8093 - val_accuracy: 0.7500\n",
      "Epoch 64/70\n",
      "50/50 [==============================] - 1s 26ms/step - loss: 0.7570 - accuracy: 0.8750 - val_loss: 0.6008 - val_accuracy: 0.7857\n",
      "Epoch 65/70\n",
      "50/50 [==============================] - 1s 25ms/step - loss: 0.7143 - accuracy: 0.8800 - val_loss: 0.7791 - val_accuracy: 0.7589\n",
      "Epoch 66/70\n",
      "50/50 [==============================] - 1s 26ms/step - loss: 0.6192 - accuracy: 0.8800 - val_loss: 0.6446 - val_accuracy: 0.7679\n",
      "Epoch 67/70\n",
      "50/50 [==============================] - 1s 25ms/step - loss: 0.6037 - accuracy: 0.8800 - val_loss: 0.7506 - val_accuracy: 0.7679\n",
      "Epoch 68/70\n",
      "50/50 [==============================] - 1s 26ms/step - loss: 0.7298 - accuracy: 0.8775 - val_loss: 0.6307 - val_accuracy: 0.7679\n",
      "Epoch 69/70\n",
      "50/50 [==============================] - 1s 25ms/step - loss: 0.6883 - accuracy: 0.8775 - val_loss: 0.6938 - val_accuracy: 0.7768\n",
      "Epoch 70/70\n",
      "50/50 [==============================] - 1s 25ms/step - loss: 0.6385 - accuracy: 0.8800 - val_loss: 0.6731 - val_accuracy: 0.7589\n"
     ]
    }
   ],
   "source": [
    "n_epochs = 70\n",
    "batch_size = 8\n",
    "(classifier, history) = train_classifier(classifier, n_epochs, batch_size)\n",
    "#classifier.save(\"../Models/binary_classifier_alt\")\n",
    "hist_df = pd.DataFrame(history.history) \n",
    "\n",
    "hist_csv_file = '../Histories/history_binary_classifier_alt.csv'\n",
    "with open(hist_csv_file, mode='a') as f:\n",
    "    hist_df.to_csv(f)"
   ]
  },
  {
   "cell_type": "code",
   "execution_count": 78,
   "metadata": {},
   "outputs": [
    {
     "data": {
      "image/png": "[encoded data removed]",
      "text/plain": [
       "<Figure size 432x288 with 1 Axes>"
      ]
     },
     "metadata": {
      "needs_background": "light"
     },
     "output_type": "display_data"
    }
   ],
   "source": [
    "plot_loss_curves(history.history, figname=\"binary_classifier_alt.png\")"
   ]
  },
  {
   "cell_type": "markdown",
   "metadata": {},
   "source": [
    "---\n",
    "## Testing"
   ]
  },
  {
   "cell_type": "code",
   "execution_count": 43,
   "metadata": {},
   "outputs": [],
   "source": [
    "#creating test pos and test neg cutouts\n",
    "num_negative = int(0.1*len(hf_neg)) +1\n",
    "test_negative = np.zeros((num_negative, cutout_size, cutout_size, 5))\n",
    "test_start = int(0.9*len(hf_neg))\n",
    "test_end = len(hf_neg)\n",
    "i = 0\n",
    "for n in range(test_start, test_end):\n",
    "    test_negative[i] = np.array(hf_neg.get(f\"cutout{n}\"))\n",
    "    i += 1\n",
    "    \n",
    "test_positive = confirmed_cutouts[int(0.9*len(confirmed_cutouts)):]"
   ]
  },
  {
   "cell_type": "code",
   "execution_count": 44,
   "metadata": {},
   "outputs": [],
   "source": [
    "#creating test set with both previous sets in them\n",
    "test_cutouts = np.array(list(test_negative) + list(test_positive))\n",
    "test_labels = np.array(list(np.zeros(len(test_negative), dtype=int)) + list(np.ones(len(test_positive), dtype=int)))\n",
    "(test_cutouts, test_labels) = shuffle(test_cutouts, test_labels)"
   ]
  },
  {
   "cell_type": "code",
   "execution_count": 79,
   "metadata": {},
   "outputs": [
    {
     "name": "stdout",
     "output_type": "stream",
     "text": [
      "WARNING:tensorflow:Model was constructed with shape (None, 64, 64, 4) for input Tensor(\"functional_1_input_10:0\", shape=(None, 64, 64, 4), dtype=float32), but it was called on an input with incompatible shape (None, 64, 64, 5).\n",
      "WARNING:tensorflow:Model was constructed with shape (None, 64, 64, 4) for input Tensor(\"input_1:0\", shape=(None, 64, 64, 4), dtype=float32), but it was called on an input with incompatible shape (None, 64, 64, 5).\n",
      "2/2 [==============================] - 0s 11ms/step - loss: 1.0271 - accuracy: 0.5000\n",
      "WARNING:tensorflow:Model was constructed with shape (None, 64, 64, 4) for input Tensor(\"functional_1_input_10:0\", shape=(None, 64, 64, 4), dtype=float32), but it was called on an input with incompatible shape (None, 64, 64, 5).\n",
      "WARNING:tensorflow:Model was constructed with shape (None, 64, 64, 4) for input Tensor(\"input_1:0\", shape=(None, 64, 64, 4), dtype=float32), but it was called on an input with incompatible shape (None, 64, 64, 5).\n",
      "WARNING:tensorflow:6 out of the last 11 calls to <function Model.make_predict_function.<locals>.predict_function at 0x2b5f80833430> triggered tf.function retracing. Tracing is expensive and the excessive number of tracings could be due to (1) creating @tf.function repeatedly in a loop, (2) passing tensors with different shapes, (3) passing Python objects instead of tensors. For (1), please define your @tf.function outside of the loop. For (2), @tf.function has experimental_relax_shapes=True option that relaxes argument shapes that can avoid unnecessary retracing. For (3), please refer to https://www.tensorflow.org/tutorials/customization/performance#python_or_tensor_args and https://www.tensorflow.org/api_docs/python/tf/function for  more details.\n",
      "Lowest 10 scores:\n",
      "[array([0.579615], dtype=float32), array([0.6122171], dtype=float32), array([0.6313511], dtype=float32), array([0.6868477], dtype=float32), array([0.6912145], dtype=float32), array([0.6934072], dtype=float32), array([0.7082925], dtype=float32), array([0.7123458], dtype=float32), array([0.7123458], dtype=float32), array([0.7123458], dtype=float32)]\n",
      "\n",
      "Highest 10 scores:\n",
      "\n",
      "[array([0.9216108], dtype=float32), array([0.92593455], dtype=float32), array([0.9262707], dtype=float32), array([0.9264214], dtype=float32), array([0.9320164], dtype=float32), array([0.9383921], dtype=float32), array([0.9393043], dtype=float32), array([0.94037324], dtype=float32), array([0.9461174], dtype=float32), array([0.971046], dtype=float32)]\n",
      "Confusion Matrix:\n",
      " [[29  0]\n",
      " [29  0]]\n",
      "Test loss: 1.027\n",
      "Test accuracy: 0.500000\n"
     ]
    },
    {
     "data": {
      "image/png": "[encoded data removed]",
      "text/plain": [
       "<Figure size 432x288 with 1 Axes>"
      ]
     },
     "metadata": {
      "needs_background": "light"
     },
     "output_type": "display_data"
    }
   ],
   "source": [
    "pred_label = evaluate_model(classifier, test_cutouts, test_labels)"
   ]
  },
  {
   "cell_type": "markdown",
   "metadata": {},
   "source": [
    "---- \n",
    "# ROC curve\n",
    "Smaller values on the x-axis of the plot indicate lower false positives and higher true negatives.\n",
    "Larger values on the y-axis of the plot indicate higher true positives and lower false negatives."
   ]
  },
  {
   "cell_type": "code",
   "execution_count": 23,
   "metadata": {},
   "outputs": [],
   "source": [
    "from sklearn import metrics"
   ]
  },
  {
   "cell_type": "code",
   "execution_count": 80,
   "metadata": {},
   "outputs": [],
   "source": [
    "fpr, tpr, thresholds = metrics.roc_curve(y_true = test_labels, y_score = pred_label)\n",
    "# generate a no skill prediction (majority class)\n",
    "ns_probs = [0 for _ in range(len(test_labels))]"
   ]
  },
  {
   "cell_type": "code",
   "execution_count": 81,
   "metadata": {},
   "outputs": [],
   "source": [
    "ns_auc = metrics.roc_auc_score(test_labels, ns_probs)\n",
    "lr_auc = metrics.roc_auc_score(test_labels, pred_label)"
   ]
  },
  {
   "cell_type": "code",
   "execution_count": 82,
   "metadata": {},
   "outputs": [
    {
     "name": "stdout",
     "output_type": "stream",
     "text": [
      "No Skill: ROC AUC=0.500\n",
      "Logistic: ROC AUC=0.529\n"
     ]
    },
    {
     "data": {
      "image/png": "[encoded data removed]",
      "text/plain": [
       "<Figure size 432x288 with 1 Axes>"
      ]
     },
     "metadata": {
      "needs_background": "light"
     },
     "output_type": "display_data"
    }
   ],
   "source": [
    "# summarize scores\n",
    "print('No Skill: ROC AUC=%.3f' % (ns_auc))\n",
    "print('Logistic: ROC AUC=%.3f' % (lr_auc))\n",
    "# calculate roc curves\n",
    "ns_fpr, ns_tpr, _ = metrics.roc_curve(test_labels, ns_probs)\n",
    "lr_fpr, lr_tpr, _ = metrics.roc_curve(test_labels, pred_label)\n",
    "# plot the roc curve for the model\n",
    "plt.plot(ns_fpr, ns_tpr, linestyle='--', label='No Skill')\n",
    "plt.plot(lr_fpr, lr_tpr, marker='.', label='Logistic')\n",
    "# axis labels\n",
    "plt.xlabel('False Positive Rate')\n",
    "plt.ylabel('True Positive Rate')\n",
    "# show the legend\n",
    "plt.legend()\n",
    "# show the plot\n",
    "plt.show()"
   ]
  },
  {
   "cell_type": "code",
   "execution_count": 60,
   "metadata": {},
   "outputs": [],
   "source": [
    "hf_pos.close()\n",
    "hf_neg.close()"
   ]
  },
  {
   "cell_type": "code",
   "execution_count": null,
   "metadata": {},
   "outputs": [],
   "source": []
  }
 ],
 "metadata": {
  "kernelspec": {
   "display_name": "Python 3",
   "language": "python",
   "name": "python3"
  },
  "language_info": {
   "codemirror_mode": {
    "name": "ipython",
    "version": 3
   },
   "file_extension": ".py",
   "mimetype": "text/x-python",
   "name": "python",
   "nbconvert_exporter": "python",
   "pygments_lexer": "ipython3",
   "version": "3.8.2"
  }
 },
 "nbformat": 4,
 "nbformat_minor": 4
}

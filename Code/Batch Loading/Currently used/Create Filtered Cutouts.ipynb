{
 "cells": [
  {
   "cell_type": "code",
   "execution_count": 1,
   "metadata": {},
   "outputs": [],
   "source": [
    "import os\n",
    "import h5py\n",
    "import shutil\n",
    "from astropy.nddata.utils import Cutout2D\n",
    "from astropy.io import fits\n",
    "from astropy import table\n",
    "import numpy as np\n",
    "import matplotlib.pyplot as plt\n",
    "from astropy.visualization import (ZScaleInterval, ImageNormalize)"
   ]
  },
  {
   "cell_type": "markdown",
   "metadata": {},
   "source": [
    "# Initialize hdf5 file"
   ]
  },
  {
   "cell_type": "code",
   "execution_count": 2,
   "metadata": {},
   "outputs": [
    {
     "data": {
      "text/plain": [
       "'/localscratch/anahoban.1486977.0'"
      ]
     },
     "execution_count": 2,
     "metadata": {},
     "output_type": "execute_result"
    }
   ],
   "source": [
    "os.path.expandvars(\"$SLURM_TMPDIR\")"
   ]
  },
  {
   "cell_type": "code",
   "execution_count": 3,
   "metadata": {
    "collapsed": true,
    "jupyter": {
     "outputs_hidden": true
    },
    "tags": []
   },
   "outputs": [
    {
     "ename": "OSError",
     "evalue": "Unable to open file (truncated file: eof = 115963895808, sblock->base_addr = 0, stored_eof = 433846588752)",
     "output_type": "error",
     "traceback": [
      "\u001b[0;31m---------------------------------------------------------------------------\u001b[0m",
      "\u001b[0;31mOSError\u001b[0m                                   Traceback (most recent call last)",
      "\u001b[0;32m<ipython-input-3-fddc695d6655>\u001b[0m in \u001b[0;36m<module>\u001b[0;34m\u001b[0m\n\u001b[0;32m----> 1\u001b[0;31m \u001b[0mhf\u001b[0m \u001b[0;34m=\u001b[0m \u001b[0mh5py\u001b[0m\u001b[0;34m.\u001b[0m\u001b[0mFile\u001b[0m\u001b[0;34m(\u001b[0m\u001b[0;34m\"cutouts_filtered_128.h5\"\u001b[0m\u001b[0;34m,\u001b[0m \u001b[0;34m\"r\"\u001b[0m\u001b[0;34m)\u001b[0m\u001b[0;34m\u001b[0m\u001b[0;34m\u001b[0m\u001b[0m\n\u001b[0m\u001b[1;32m      2\u001b[0m \u001b[0mhf\u001b[0m\u001b[0;34m.\u001b[0m\u001b[0mclose\u001b[0m\u001b[0;34m(\u001b[0m\u001b[0;34m)\u001b[0m\u001b[0;34m\u001b[0m\u001b[0;34m\u001b[0m\u001b[0m\n",
      "\u001b[0;32m~/lensing/lib/python3.8/site-packages/h5py/_hl/files.py\u001b[0m in \u001b[0;36m__init__\u001b[0;34m(self, name, mode, driver, libver, userblock_size, swmr, rdcc_nslots, rdcc_nbytes, rdcc_w0, track_order, **kwds)\u001b[0m\n\u001b[1;32m    404\u001b[0m             \u001b[0;32mwith\u001b[0m \u001b[0mphil\u001b[0m\u001b[0;34m:\u001b[0m\u001b[0;34m\u001b[0m\u001b[0;34m\u001b[0m\u001b[0m\n\u001b[1;32m    405\u001b[0m                 \u001b[0mfapl\u001b[0m \u001b[0;34m=\u001b[0m \u001b[0mmake_fapl\u001b[0m\u001b[0;34m(\u001b[0m\u001b[0mdriver\u001b[0m\u001b[0;34m,\u001b[0m \u001b[0mlibver\u001b[0m\u001b[0;34m,\u001b[0m \u001b[0mrdcc_nslots\u001b[0m\u001b[0;34m,\u001b[0m \u001b[0mrdcc_nbytes\u001b[0m\u001b[0;34m,\u001b[0m \u001b[0mrdcc_w0\u001b[0m\u001b[0;34m,\u001b[0m \u001b[0;34m**\u001b[0m\u001b[0mkwds\u001b[0m\u001b[0;34m)\u001b[0m\u001b[0;34m\u001b[0m\u001b[0;34m\u001b[0m\u001b[0m\n\u001b[0;32m--> 406\u001b[0;31m                 fid = make_fid(name, mode, userblock_size,\n\u001b[0m\u001b[1;32m    407\u001b[0m                                \u001b[0mfapl\u001b[0m\u001b[0;34m,\u001b[0m \u001b[0mfcpl\u001b[0m\u001b[0;34m=\u001b[0m\u001b[0mmake_fcpl\u001b[0m\u001b[0;34m(\u001b[0m\u001b[0mtrack_order\u001b[0m\u001b[0;34m=\u001b[0m\u001b[0mtrack_order\u001b[0m\u001b[0;34m)\u001b[0m\u001b[0;34m,\u001b[0m\u001b[0;34m\u001b[0m\u001b[0;34m\u001b[0m\u001b[0m\n\u001b[1;32m    408\u001b[0m                                swmr=swmr)\n",
      "\u001b[0;32m~/lensing/lib/python3.8/site-packages/h5py/_hl/files.py\u001b[0m in \u001b[0;36mmake_fid\u001b[0;34m(name, mode, userblock_size, fapl, fcpl, swmr)\u001b[0m\n\u001b[1;32m    171\u001b[0m         \u001b[0;32mif\u001b[0m \u001b[0mswmr\u001b[0m \u001b[0;32mand\u001b[0m \u001b[0mswmr_support\u001b[0m\u001b[0;34m:\u001b[0m\u001b[0;34m\u001b[0m\u001b[0;34m\u001b[0m\u001b[0m\n\u001b[1;32m    172\u001b[0m             \u001b[0mflags\u001b[0m \u001b[0;34m|=\u001b[0m \u001b[0mh5f\u001b[0m\u001b[0;34m.\u001b[0m\u001b[0mACC_SWMR_READ\u001b[0m\u001b[0;34m\u001b[0m\u001b[0;34m\u001b[0m\u001b[0m\n\u001b[0;32m--> 173\u001b[0;31m         \u001b[0mfid\u001b[0m \u001b[0;34m=\u001b[0m \u001b[0mh5f\u001b[0m\u001b[0;34m.\u001b[0m\u001b[0mopen\u001b[0m\u001b[0;34m(\u001b[0m\u001b[0mname\u001b[0m\u001b[0;34m,\u001b[0m \u001b[0mflags\u001b[0m\u001b[0;34m,\u001b[0m \u001b[0mfapl\u001b[0m\u001b[0;34m=\u001b[0m\u001b[0mfapl\u001b[0m\u001b[0;34m)\u001b[0m\u001b[0;34m\u001b[0m\u001b[0;34m\u001b[0m\u001b[0m\n\u001b[0m\u001b[1;32m    174\u001b[0m     \u001b[0;32melif\u001b[0m \u001b[0mmode\u001b[0m \u001b[0;34m==\u001b[0m \u001b[0;34m'r+'\u001b[0m\u001b[0;34m:\u001b[0m\u001b[0;34m\u001b[0m\u001b[0;34m\u001b[0m\u001b[0m\n\u001b[1;32m    175\u001b[0m         \u001b[0mfid\u001b[0m \u001b[0;34m=\u001b[0m \u001b[0mh5f\u001b[0m\u001b[0;34m.\u001b[0m\u001b[0mopen\u001b[0m\u001b[0;34m(\u001b[0m\u001b[0mname\u001b[0m\u001b[0;34m,\u001b[0m \u001b[0mh5f\u001b[0m\u001b[0;34m.\u001b[0m\u001b[0mACC_RDWR\u001b[0m\u001b[0;34m,\u001b[0m \u001b[0mfapl\u001b[0m\u001b[0;34m=\u001b[0m\u001b[0mfapl\u001b[0m\u001b[0;34m)\u001b[0m\u001b[0;34m\u001b[0m\u001b[0;34m\u001b[0m\u001b[0m\n",
      "\u001b[0;32mh5py/_objects.pyx\u001b[0m in \u001b[0;36mh5py._objects.with_phil.wrapper\u001b[0;34m()\u001b[0m\n",
      "\u001b[0;32mh5py/_objects.pyx\u001b[0m in \u001b[0;36mh5py._objects.with_phil.wrapper\u001b[0;34m()\u001b[0m\n",
      "\u001b[0;32mh5py/h5f.pyx\u001b[0m in \u001b[0;36mh5py.h5f.open\u001b[0;34m()\u001b[0m\n",
      "\u001b[0;31mOSError\u001b[0m: Unable to open file (truncated file: eof = 115963895808, sblock->base_addr = 0, stored_eof = 433846588752)"
     ]
    }
   ],
   "source": [
    "hf = h5py.File(\"cutouts_filtered_128.h5\", \"r\")\n",
    "hf.close()"
   ]
  },
  {
   "cell_type": "code",
   "execution_count": 4,
   "metadata": {
    "collapsed": true,
    "jupyter": {
     "outputs_hidden": true
    },
    "tags": []
   },
   "outputs": [
    {
     "ename": "FileNotFoundError",
     "evalue": "[Errno 2] No such file or directory: '/scratch/anahoban/cutouts_filtered_128.h5'",
     "output_type": "error",
     "traceback": [
      "\u001b[0;31m---------------------------------------------------------------------------\u001b[0m",
      "\u001b[0;31mFileNotFoundError\u001b[0m                         Traceback (most recent call last)",
      "\u001b[0;32m<ipython-input-4-35385256cffa>\u001b[0m in \u001b[0;36m<module>\u001b[0;34m\u001b[0m\n\u001b[1;32m      1\u001b[0m \u001b[0msrc\u001b[0m \u001b[0;34m=\u001b[0m \u001b[0mos\u001b[0m\u001b[0;34m.\u001b[0m\u001b[0mpath\u001b[0m\u001b[0;34m.\u001b[0m\u001b[0mexpandvars\u001b[0m\u001b[0;34m(\u001b[0m\u001b[0;34m\"$SCRATCH\"\u001b[0m\u001b[0;34m)\u001b[0m \u001b[0;34m+\u001b[0m \u001b[0;34m\"/cutouts_filtered_128.h5\"\u001b[0m\u001b[0;34m\u001b[0m\u001b[0;34m\u001b[0m\u001b[0m\n\u001b[1;32m      2\u001b[0m \u001b[0mdest\u001b[0m \u001b[0;34m=\u001b[0m \u001b[0mos\u001b[0m\u001b[0;34m.\u001b[0m\u001b[0mpath\u001b[0m\u001b[0;34m.\u001b[0m\u001b[0mexpandvars\u001b[0m\u001b[0;34m(\u001b[0m\u001b[0;34m\"$SLURM_TMPDIR\"\u001b[0m\u001b[0;34m)\u001b[0m \u001b[0;34m+\u001b[0m \u001b[0;34m\"/\"\u001b[0m\u001b[0;34m\u001b[0m\u001b[0;34m\u001b[0m\u001b[0m\n\u001b[0;32m----> 3\u001b[0;31m \u001b[0mshutil\u001b[0m\u001b[0;34m.\u001b[0m\u001b[0mcopy2\u001b[0m\u001b[0;34m(\u001b[0m\u001b[0msrc\u001b[0m\u001b[0;34m,\u001b[0m \u001b[0mdest\u001b[0m\u001b[0;34m)\u001b[0m\u001b[0;34m\u001b[0m\u001b[0;34m\u001b[0m\u001b[0m\n\u001b[0m",
      "\u001b[0;32m/cvmfs/soft.computecanada.ca/easybuild/software/2020/avx2/Core/python/3.8.2/lib/python3.8/shutil.py\u001b[0m in \u001b[0;36mcopy2\u001b[0;34m(src, dst, follow_symlinks)\u001b[0m\n\u001b[1;32m    430\u001b[0m     \u001b[0;32mif\u001b[0m \u001b[0mos\u001b[0m\u001b[0;34m.\u001b[0m\u001b[0mpath\u001b[0m\u001b[0;34m.\u001b[0m\u001b[0misdir\u001b[0m\u001b[0;34m(\u001b[0m\u001b[0mdst\u001b[0m\u001b[0;34m)\u001b[0m\u001b[0;34m:\u001b[0m\u001b[0;34m\u001b[0m\u001b[0;34m\u001b[0m\u001b[0m\n\u001b[1;32m    431\u001b[0m         \u001b[0mdst\u001b[0m \u001b[0;34m=\u001b[0m \u001b[0mos\u001b[0m\u001b[0;34m.\u001b[0m\u001b[0mpath\u001b[0m\u001b[0;34m.\u001b[0m\u001b[0mjoin\u001b[0m\u001b[0;34m(\u001b[0m\u001b[0mdst\u001b[0m\u001b[0;34m,\u001b[0m \u001b[0mos\u001b[0m\u001b[0;34m.\u001b[0m\u001b[0mpath\u001b[0m\u001b[0;34m.\u001b[0m\u001b[0mbasename\u001b[0m\u001b[0;34m(\u001b[0m\u001b[0msrc\u001b[0m\u001b[0;34m)\u001b[0m\u001b[0;34m)\u001b[0m\u001b[0;34m\u001b[0m\u001b[0;34m\u001b[0m\u001b[0m\n\u001b[0;32m--> 432\u001b[0;31m     \u001b[0mcopyfile\u001b[0m\u001b[0;34m(\u001b[0m\u001b[0msrc\u001b[0m\u001b[0;34m,\u001b[0m \u001b[0mdst\u001b[0m\u001b[0;34m,\u001b[0m \u001b[0mfollow_symlinks\u001b[0m\u001b[0;34m=\u001b[0m\u001b[0mfollow_symlinks\u001b[0m\u001b[0;34m)\u001b[0m\u001b[0;34m\u001b[0m\u001b[0;34m\u001b[0m\u001b[0m\n\u001b[0m\u001b[1;32m    433\u001b[0m     \u001b[0mcopystat\u001b[0m\u001b[0;34m(\u001b[0m\u001b[0msrc\u001b[0m\u001b[0;34m,\u001b[0m \u001b[0mdst\u001b[0m\u001b[0;34m,\u001b[0m \u001b[0mfollow_symlinks\u001b[0m\u001b[0;34m=\u001b[0m\u001b[0mfollow_symlinks\u001b[0m\u001b[0;34m)\u001b[0m\u001b[0;34m\u001b[0m\u001b[0;34m\u001b[0m\u001b[0m\n\u001b[1;32m    434\u001b[0m     \u001b[0;32mreturn\u001b[0m \u001b[0mdst\u001b[0m\u001b[0;34m\u001b[0m\u001b[0;34m\u001b[0m\u001b[0m\n",
      "\u001b[0;32m/cvmfs/soft.computecanada.ca/easybuild/software/2020/avx2/Core/python/3.8.2/lib/python3.8/shutil.py\u001b[0m in \u001b[0;36mcopyfile\u001b[0;34m(src, dst, follow_symlinks)\u001b[0m\n\u001b[1;32m    259\u001b[0m         \u001b[0mos\u001b[0m\u001b[0;34m.\u001b[0m\u001b[0msymlink\u001b[0m\u001b[0;34m(\u001b[0m\u001b[0mos\u001b[0m\u001b[0;34m.\u001b[0m\u001b[0mreadlink\u001b[0m\u001b[0;34m(\u001b[0m\u001b[0msrc\u001b[0m\u001b[0;34m)\u001b[0m\u001b[0;34m,\u001b[0m \u001b[0mdst\u001b[0m\u001b[0;34m)\u001b[0m\u001b[0;34m\u001b[0m\u001b[0;34m\u001b[0m\u001b[0m\n\u001b[1;32m    260\u001b[0m     \u001b[0;32melse\u001b[0m\u001b[0;34m:\u001b[0m\u001b[0;34m\u001b[0m\u001b[0;34m\u001b[0m\u001b[0m\n\u001b[0;32m--> 261\u001b[0;31m         \u001b[0;32mwith\u001b[0m \u001b[0mopen\u001b[0m\u001b[0;34m(\u001b[0m\u001b[0msrc\u001b[0m\u001b[0;34m,\u001b[0m \u001b[0;34m'rb'\u001b[0m\u001b[0;34m)\u001b[0m \u001b[0;32mas\u001b[0m \u001b[0mfsrc\u001b[0m\u001b[0;34m,\u001b[0m \u001b[0mopen\u001b[0m\u001b[0;34m(\u001b[0m\u001b[0mdst\u001b[0m\u001b[0;34m,\u001b[0m \u001b[0;34m'wb'\u001b[0m\u001b[0;34m)\u001b[0m \u001b[0;32mas\u001b[0m \u001b[0mfdst\u001b[0m\u001b[0;34m:\u001b[0m\u001b[0;34m\u001b[0m\u001b[0;34m\u001b[0m\u001b[0m\n\u001b[0m\u001b[1;32m    262\u001b[0m             \u001b[0;31m# macOS\u001b[0m\u001b[0;34m\u001b[0m\u001b[0;34m\u001b[0m\u001b[0;34m\u001b[0m\u001b[0m\n\u001b[1;32m    263\u001b[0m             \u001b[0;32mif\u001b[0m \u001b[0m_HAS_FCOPYFILE\u001b[0m\u001b[0;34m:\u001b[0m\u001b[0;34m\u001b[0m\u001b[0;34m\u001b[0m\u001b[0m\n",
      "\u001b[0;31mFileNotFoundError\u001b[0m: [Errno 2] No such file or directory: '/scratch/anahoban/cutouts_filtered_128.h5'"
     ]
    }
   ],
   "source": [
    "src = os.path.expandvars(\"$SCRATCH\") + \"/cutouts_filtered_128.h5\"\n",
    "dest = os.path.expandvars(\"$SLURM_TMPDIR\") + \"/\"\n",
    "shutil.copy2(src, dest)"
   ]
  },
  {
   "cell_type": "code",
   "execution_count": null,
   "metadata": {
    "jupyter": {
     "source_hidden": true
    },
    "tags": []
   },
   "outputs": [],
   "source": [
    "hf = h5py.File(dest + \"cutouts_filtered_128.h5\", \"r+\")\n",
    "image_dir = \"/home/anahoban/projects/rrg-kyi/astro/cfis/W3/\""
   ]
  },
  {
   "cell_type": "code",
   "execution_count": null,
   "metadata": {},
   "outputs": [],
   "source": [
    "# Only use tiles with all five channels\n",
    "\n",
    "tile_list = open(image_dir + \"tiles.list\", \"r\")\n",
    "\n",
    "u_images = []\n",
    "u_weights = []\n",
    "g_images = []\n",
    "g_weights = []\n",
    "r_images = []\n",
    "r_weights = []\n",
    "i_images= []\n",
    "i_weights = []\n",
    "z_images = []\n",
    "z_weights = []\n",
    "cats = []\n",
    "\n",
    "for tile in tile_list:\n",
    "    tile = tile[:-1] # Remove new line character\n",
    "    channels = tile.split(\" \")\n",
    "    if len(channels) == 5: # Order is u,g,r,i,z\n",
    "        u_images.append(image_dir + channels[0] + \".fits\")\n",
    "        u_weights.append(image_dir + channels[0] + \".weight.fits.fz\")\n",
    "        g_images.append(image_dir + channels[1] + \".fits\")\n",
    "        g_weights.append(image_dir + channels[1] + \".wt.fits\")\n",
    "        r_images.append(image_dir + channels[2] + \".fits\")\n",
    "        r_weights.append(image_dir + channels[2] + \".weight.fits.fz\")\n",
    "        i_images.append(image_dir + channels[3] + \".fits\")\n",
    "        i_weights.append(image_dir + channels[3] + \".wt.fits\")\n",
    "        z_images.append(image_dir + channels[4] + \".fits\")\n",
    "        z_weights.append(image_dir + channels[4] + \".wt.fits\")\n",
    "        cats.append(image_dir + channels[2] + \".cat\")\n",
    "tile_list.close()"
   ]
  },
  {
   "cell_type": "code",
   "execution_count": null,
   "metadata": {},
   "outputs": [],
   "source": [
    "print(len(u_images))\n",
    "print(len(u_weights))\n",
    "print(len(g_images))\n",
    "print(len(g_weights))\n",
    "print(len(r_images))\n",
    "print(len(r_weights))\n",
    "print(len(i_images))\n",
    "print(len(i_weights))\n",
    "print(len(z_images))\n",
    "print(len(z_weights))\n",
    "print(len(cats))"
   ]
  },
  {
   "cell_type": "code",
   "execution_count": null,
   "metadata": {},
   "outputs": [],
   "source": [
    "# Copy tiles to $SLURM_TMPDIR\n",
    "start = 0\n",
    "end = 20\n",
    "for n in range(start, end):\n",
    "    shutil.copy2(u_images[n], dest)\n",
    "    shutil.copy2(u_weights[n], dest)\n",
    "    shutil.copy2(g_images[n], dest)\n",
    "    shutil.copy2(g_weights[n], dest)\n",
    "    shutil.copy2(r_images[n], dest)\n",
    "    shutil.copy2(r_weights[n], dest)\n",
    "    shutil.copy2(i_images[n], dest)\n",
    "    shutil.copy2(i_weights[n], dest)\n",
    "    shutil.copy2(z_images[n], dest)\n",
    "    shutil.copy2(z_weights[n], dest)\n",
    "    shutil.copy2(cats[n], dest)\n",
    "    \n",
    "    u_images[n] = os.path.abspath(dest + os.path.basename(u_images[n]))\n",
    "    u_weights[n] = os.path.abspath(dest + os.path.basename(u_weights[n]))\n",
    "    g_images[n] = os.path.abspath(dest + os.path.basename(g_images[n]))\n",
    "    g_weights[n] = os.path.abspath(dest + os.path.basename(g_weights[n]))\n",
    "    r_images[n] = os.path.abspath(dest + os.path.basename(r_images[n]))\n",
    "    r_weights[n] = os.path.abspath(dest + os.path.basename(r_weights[n]))\n",
    "    i_images[n] = os.path.abspath(dest + os.path.basename(i_images[n]))\n",
    "    i_weights[n] = os.path.abspath(dest + os.path.basename(i_weights[n]))\n",
    "    z_images[n] = os.path.abspath(dest + os.path.basename(z_images[n]))\n",
    "    z_weights[n] = os.path.abspath(dest + os.path.basename(z_weights[n]))    \n",
    "    cats[n] = os.path.abspath(dest + os.path.basename(cats[n]))"
   ]
  },
  {
   "cell_type": "markdown",
   "metadata": {},
   "source": [
    "# Store cutouts into hdf5 file"
   ]
  },
  {
   "cell_type": "code",
   "execution_count": null,
   "metadata": {},
   "outputs": [],
   "source": [
    "def create_cutouts(img, wt, x, y, band):\n",
    "    img_cutout = Cutout2D(img.data, (x, y), cutout_size, mode=\"partial\", fill_value=0).data\n",
    "    if np.count_nonzero(np.isnan(img_cutout)) >= 0.05*cutout_size**2 or np.count_nonzero(img_cutout) == 0: # Don't use this cutout\n",
    "        return (None, None)\n",
    "    wt_cutout = Cutout2D(wt.data, (x, y), cutout_size, mode=\"partial\", fill_value=0).data\n",
    "    img_cutout[np.isnan(img_cutout)] = 0\n",
    "    wt_cutout[np.isnan(wt_cutout)] = 0\n",
    "    \n",
    "    img_lower = np.percentile(img_cutout, 1)\n",
    "    img_upper = np.percentile(img_cutout, 99)\n",
    "    \n",
    "    if img_lower == img_upper:\n",
    "        img_norm = np.zeros((cutout_size, cutout_size))\n",
    "    else:\n",
    "        img_norm = (img_cutout - np.min(img_cutout)) / (img_upper - img_lower)\n",
    "    if (band != \"u\" or band != \"r\") and img_upper != img_lower: # Alter weights for PS1\n",
    "        wt_norm = (wt_cutout - np.min(wt_cutout)) / (img_upper - img_lower)\n",
    "    else: # Do not alter weights for CFIS\n",
    "        wt_norm = wt_cutout\n",
    "        \n",
    "    return (img_norm, wt_norm)"
   ]
  },
  {
   "cell_type": "code",
   "execution_count": null,
   "metadata": {},
   "outputs": [],
   "source": [
    "cutout_size = 128\n",
    "img_cutout = np.zeros((cutout_size, cutout_size, 5))\n",
    "wt_cutout = np.zeros((cutout_size, cutout_size, 5))\n",
    "for n in range(start, end):\n",
    "    root = os.path.basename(u_images[n])[5:12] + \"/\" # XXX.XXX id\n",
    "    \n",
    "    u_image = fits.open(u_images[n], memmap=True)\n",
    "    u_weight = fits.open(u_weights[n], memmap=True)\n",
    "    g_image = fits.open(g_images[n], memmap=True)\n",
    "    g_weight = fits.open(g_weights[n], memmap=True)\n",
    "    r_image = fits.open(r_images[n], memmap=True)\n",
    "    r_weight = fits.open(r_weights[n], memmap=True)\n",
    "    i_image = fits.open(i_images[n], memmap=True)\n",
    "    i_weight = fits.open(i_weights[n], memmap=True)\n",
    "    z_image = fits.open(z_images[n], memmap=True)\n",
    "    z_weight = fits.open(z_weights[n], memmap=True)\n",
    "    cat = table.Table.read(cats[n], format=\"ascii.sextractor\")\n",
    "    \n",
    "    img_group = hf.create_group(root + \"IMAGES\")\n",
    "    wt_group = hf.create_group(root + \"WEIGHTS\")\n",
    "\n",
    "    count = 0\n",
    "    for i in range(len(cat)):\n",
    "        if cat[\"FLAGS\"][i] != 0 or cat[\"MAG_AUTO\"][i] >= 99.0 or cat[\"MAGERR_AUTO\"][i] <= 0 or cat[\"MAGERR_AUTO\"][i] >= 1:\n",
    "            continue\n",
    "        x = cat[\"X_IMAGE\"][i]\n",
    "        y = cat[\"Y_IMAGE\"][i]\n",
    "        (r_img, r_wt) = create_cutouts(r_image[0], r_weight[1], x, y, \"r\")\n",
    "        if r_img is None:\n",
    "            continue\n",
    "        (u_img, u_wt) = create_cutouts(u_image[0], u_weight[1], x, y, \"u\")\n",
    "        if u_img is None:\n",
    "            continue\n",
    "        (g_img, g_wt) = create_cutouts(g_image[0], g_weight[0], x, y, \"g\")\n",
    "        if g_img is None:\n",
    "            continue\n",
    "        (i_img, i_wt) = create_cutouts(i_image[0], i_weight[0], x, y, \"i\")\n",
    "        if i_img is None:\n",
    "            continue\n",
    "        (z_img, z_wt) = create_cutouts(z_image[0], z_weight[0], x, y, \"z\")\n",
    "        if z_img is None:\n",
    "            continue\n",
    "        \n",
    "        img_cutout[:,:,0] = u_img\n",
    "        img_cutout[:,:,1] = g_img\n",
    "        img_cutout[:,:,2] = r_img\n",
    "        img_cutout[:,:,3] = i_img\n",
    "        img_cutout[:,:,4] = z_img\n",
    "        wt_cutout[:,:,0] = u_wt\n",
    "        wt_cutout[:,:,1] = g_wt\n",
    "        wt_cutout[:,:,2] = r_wt\n",
    "        wt_cutout[:,:,3] = i_wt\n",
    "        wt_cutout[:,:,4] = z_wt\n",
    "\n",
    "        img_group.create_dataset(f\"c{count}\", data=img_cutout)\n",
    "        wt_group.create_dataset(f\"c{count}\", data=wt_cutout)\n",
    "        count += 1\n",
    "    \n",
    "    u_image.close()\n",
    "    u_weight.close()\n",
    "    g_image.close()\n",
    "    g_weight.close()\n",
    "    r_image.close()\n",
    "    r_weight.close()\n",
    "    i_image.close()\n",
    "    i_weight.close()\n",
    "    z_image.close()\n",
    "    z_weight.close()\n",
    "    print(f\"Tile {n+1} completed\")"
   ]
  },
  {
   "cell_type": "markdown",
   "metadata": {},
   "source": [
    "# Test getting and plotting cutouts from hdf5 file"
   ]
  },
  {
   "cell_type": "code",
   "execution_count": 5,
   "metadata": {
    "collapsed": true,
    "jupyter": {
     "outputs_hidden": true
    },
    "tags": []
   },
   "outputs": [
    {
     "ename": "NameError",
     "evalue": "name 'hf' is not defined",
     "output_type": "error",
     "traceback": [
      "\u001b[0;31m---------------------------------------------------------------------------\u001b[0m",
      "\u001b[0;31mNameError\u001b[0m                                 Traceback (most recent call last)",
      "\u001b[0;32m<ipython-input-5-91c2962f379d>\u001b[0m in \u001b[0;36m<module>\u001b[0;34m\u001b[0m\n\u001b[0;32m----> 1\u001b[0;31m \u001b[0mgroup\u001b[0m \u001b[0;34m=\u001b[0m \u001b[0mhf\u001b[0m\u001b[0;34m.\u001b[0m\u001b[0mget\u001b[0m\u001b[0;34m(\u001b[0m\u001b[0;34m\"180.272/IMAGES\"\u001b[0m\u001b[0;34m)\u001b[0m\u001b[0;34m\u001b[0m\u001b[0;34m\u001b[0m\u001b[0m\n\u001b[0m\u001b[1;32m      2\u001b[0m \u001b[0mplot_cutouts\u001b[0m \u001b[0;34m=\u001b[0m \u001b[0mnp\u001b[0m\u001b[0;34m.\u001b[0m\u001b[0marray\u001b[0m\u001b[0;34m(\u001b[0m\u001b[0mgroup\u001b[0m\u001b[0;34m.\u001b[0m\u001b[0mget\u001b[0m\u001b[0;34m(\u001b[0m\u001b[0;34m\"c110\"\u001b[0m\u001b[0;34m)\u001b[0m\u001b[0;34m)\u001b[0m\u001b[0;34m\u001b[0m\u001b[0;34m\u001b[0m\u001b[0m\n\u001b[1;32m      3\u001b[0m \u001b[0mprint\u001b[0m\u001b[0;34m(\u001b[0m\u001b[0mplot_cutouts\u001b[0m\u001b[0;34m.\u001b[0m\u001b[0mshape\u001b[0m\u001b[0;34m)\u001b[0m\u001b[0;34m\u001b[0m\u001b[0;34m\u001b[0m\u001b[0m\n",
      "\u001b[0;31mNameError\u001b[0m: name 'hf' is not defined"
     ]
    }
   ],
   "source": [
    "group = hf.get(\"180.272/IMAGES\")\n",
    "plot_cutouts = np.array(group.get(\"c110\"))\n",
    "print(plot_cutouts.shape)"
   ]
  },
  {
   "cell_type": "code",
   "execution_count": 6,
   "metadata": {
    "collapsed": true,
    "jupyter": {
     "outputs_hidden": true
    },
    "tags": []
   },
   "outputs": [
    {
     "ename": "NameError",
     "evalue": "name 'plot_cutouts' is not defined",
     "output_type": "error",
     "traceback": [
      "\u001b[0;31m---------------------------------------------------------------------------\u001b[0m",
      "\u001b[0;31mNameError\u001b[0m                                 Traceback (most recent call last)",
      "\u001b[0;32m<ipython-input-6-472159c42843>\u001b[0m in \u001b[0;36m<module>\u001b[0;34m\u001b[0m\n\u001b[1;32m      2\u001b[0m \u001b[0mfig\u001b[0m\u001b[0;34m,\u001b[0m \u001b[0maxes\u001b[0m \u001b[0;34m=\u001b[0m \u001b[0mplt\u001b[0m\u001b[0;34m.\u001b[0m\u001b[0msubplots\u001b[0m\u001b[0;34m(\u001b[0m\u001b[0;36m1\u001b[0m\u001b[0;34m,\u001b[0m\u001b[0;36m5\u001b[0m\u001b[0;34m,\u001b[0m \u001b[0mfigsize\u001b[0m\u001b[0;34m=\u001b[0m\u001b[0;34m(\u001b[0m\u001b[0;36m12\u001b[0m\u001b[0;34m,\u001b[0m\u001b[0;36m8\u001b[0m\u001b[0;34m)\u001b[0m\u001b[0;34m)\u001b[0m\u001b[0;34m\u001b[0m\u001b[0;34m\u001b[0m\u001b[0m\n\u001b[1;32m      3\u001b[0m \u001b[0;32mfor\u001b[0m \u001b[0mi\u001b[0m \u001b[0;32min\u001b[0m \u001b[0mrange\u001b[0m\u001b[0;34m(\u001b[0m\u001b[0;36m5\u001b[0m\u001b[0;34m)\u001b[0m\u001b[0;34m:\u001b[0m\u001b[0;34m\u001b[0m\u001b[0;34m\u001b[0m\u001b[0m\n\u001b[0;32m----> 4\u001b[0;31m     \u001b[0mnorm\u001b[0m \u001b[0;34m=\u001b[0m \u001b[0mImageNormalize\u001b[0m\u001b[0;34m(\u001b[0m\u001b[0mplot_cutouts\u001b[0m\u001b[0;34m[\u001b[0m\u001b[0;34m:\u001b[0m\u001b[0;34m,\u001b[0m\u001b[0;34m:\u001b[0m\u001b[0;34m,\u001b[0m\u001b[0mi\u001b[0m\u001b[0;34m]\u001b[0m\u001b[0;34m,\u001b[0m \u001b[0minterval\u001b[0m\u001b[0;34m=\u001b[0m\u001b[0mZScaleInterval\u001b[0m\u001b[0;34m(\u001b[0m\u001b[0;34m)\u001b[0m\u001b[0;34m)\u001b[0m\u001b[0;34m\u001b[0m\u001b[0;34m\u001b[0m\u001b[0m\n\u001b[0m\u001b[1;32m      5\u001b[0m     \u001b[0maxes\u001b[0m\u001b[0;34m[\u001b[0m\u001b[0mi\u001b[0m\u001b[0;34m]\u001b[0m\u001b[0;34m.\u001b[0m\u001b[0mimshow\u001b[0m\u001b[0;34m(\u001b[0m\u001b[0mplot_cutouts\u001b[0m\u001b[0;34m[\u001b[0m\u001b[0;34m:\u001b[0m\u001b[0;34m,\u001b[0m\u001b[0;34m:\u001b[0m\u001b[0;34m,\u001b[0m\u001b[0mi\u001b[0m\u001b[0;34m]\u001b[0m\u001b[0;34m,\u001b[0m \u001b[0mnorm\u001b[0m\u001b[0;34m=\u001b[0m\u001b[0mnorm\u001b[0m\u001b[0;34m)\u001b[0m\u001b[0;34m\u001b[0m\u001b[0;34m\u001b[0m\u001b[0m\n\u001b[1;32m      6\u001b[0m     \u001b[0maxes\u001b[0m\u001b[0;34m[\u001b[0m\u001b[0mi\u001b[0m\u001b[0;34m]\u001b[0m\u001b[0;34m.\u001b[0m\u001b[0mset_title\u001b[0m\u001b[0;34m(\u001b[0m\u001b[0mchannels\u001b[0m\u001b[0;34m[\u001b[0m\u001b[0mi\u001b[0m\u001b[0;34m]\u001b[0m\u001b[0;34m)\u001b[0m\u001b[0;34m\u001b[0m\u001b[0;34m\u001b[0m\u001b[0m\n",
      "\u001b[0;31mNameError\u001b[0m: name 'plot_cutouts' is not defined"
     ]
    },
    {
     "data": {
      "image/png": "[encoded data removed]",
      "text/plain": [
       "<Figure size 864x576 with 5 Axes>"
      ]
     },
     "metadata": {
      "needs_background": "light"
     },
     "output_type": "display_data"
    }
   ],
   "source": [
    "channels = [\"u\", \"g\", \"r\", \"i\", \"z\"]\n",
    "fig, axes = plt.subplots(1,5, figsize=(12,8))\n",
    "for i in range(5):\n",
    "    norm = ImageNormalize(plot_cutouts[:,:,i], interval=ZScaleInterval())\n",
    "    axes[i].imshow(plot_cutouts[:,:,i], norm=norm)\n",
    "    axes[i].set_title(channels[i])"
   ]
  },
  {
   "cell_type": "code",
   "execution_count": null,
   "metadata": {},
   "outputs": [],
   "source": [
    "group_weight = hf.get(\"180.272/WEIGHTS\")\n",
    "plot_weights = np.array(group_weight.get(\"c110\"))\n",
    "print(plot_weights.shape)"
   ]
  },
  {
   "cell_type": "code",
   "execution_count": null,
   "metadata": {},
   "outputs": [],
   "source": [
    "channels = [\"u\", \"g\", \"r\", \"i\", \"z\"]\n",
    "fig, axes = plt.subplots(1,5, figsize=(12,8))\n",
    "for i in range(5):\n",
    "    norm = ImageNormalize(plot_weights[:,:,i], interval=ZScaleInterval())\n",
    "    axes[i].imshow(plot_weights[:,:,i], norm=norm)\n",
    "    axes[i].set_title(channels[i])"
   ]
  },
  {
   "cell_type": "code",
   "execution_count": null,
   "metadata": {},
   "outputs": [],
   "source": [
    "hf.close()"
   ]
  },
  {
   "cell_type": "markdown",
   "metadata": {},
   "source": [
    "hf.close()\n",
    "src = os.path.expandvars(\"$SLURM_TMPDIR\") + \"/cutouts_filtered_128.h5\"\n",
    "dest = os.path.expandvars(\"$SCRATCH\") + \"/\"\n",
    "shutil.copy2(src, dest)"
   ]
  },
  {
   "cell_type": "code",
   "execution_count": null,
   "metadata": {},
   "outputs": [],
   "source": []
  },
  {
   "cell_type": "code",
   "execution_count": null,
   "metadata": {},
   "outputs": [],
   "source": []
  },
  {
   "cell_type": "code",
   "execution_count": null,
   "metadata": {},
   "outputs": [],
   "source": []
  }
 ],
 "metadata": {
  "kernelspec": {
   "display_name": "Python 3",
   "language": "python",
   "name": "python3"
  },
  "language_info": {
   "codemirror_mode": {
    "name": "ipython",
    "version": 3
   },
   "file_extension": ".py",
   "mimetype": "text/x-python",
   "name": "python",
   "nbconvert_exporter": "python",
   "pygments_lexer": "ipython3",
   "version": "3.8.2"
  }
 },
 "nbformat": 4,
 "nbformat_minor": 4
}

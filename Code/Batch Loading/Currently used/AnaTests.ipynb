{
 "cells": [
  {
   "cell_type": "code",
   "execution_count": 1,
   "metadata": {},
   "outputs": [],
   "source": [
    "import os\n",
    "import h5py\n",
    "import shutil\n",
    "import pandas as pd\n",
    "from astropy.nddata.utils import Cutout2D\n",
    "from astropy.io import fits\n",
    "from astropy import table\n",
    "import numpy as np\n",
    "import matplotlib.pyplot as plt\n",
    "from astropy.visualization import (ZScaleInterval, ImageNormalize)\n",
    "from astropy.visualization import make_lupton_rgb\n",
    "from collections import Counter\n",
    "from tensorflow import keras\n",
    "from astropy.wcs import WCS,utils\n",
    "import random\n",
    "from functions import create_cutouts"
   ]
  },
  {
   "cell_type": "code",
   "execution_count": 2,
   "metadata": {},
   "outputs": [],
   "source": [
    "file_name = \"/confirmed_cfis_64p.h5\""
   ]
  },
  {
   "cell_type": "code",
   "execution_count": 3,
   "metadata": {},
   "outputs": [],
   "source": [
    "#useful directories\n",
    "os.path.expandvars(\"$SLURM_TMPDIR\")\n",
    "\n",
    "src = os.path.expandvars(\"$SCRATCH\") + file_name\n",
    "dest = os.path.expandvars(\"$SLURM_TMPDIR\") + \"/\"\n",
    "\n",
    "image_dir = \"/home/anahoban/projects/rrg-kyi/astro/cfis/W3/\"\n",
    "label_dir = \"labels/\""
   ]
  },
  {
   "cell_type": "code",
   "execution_count": 4,
   "metadata": {},
   "outputs": [],
   "source": [
    "hf = h5py.File(os.path.expandvars(\"$SCRATCH\")+file_name, \"r\")\n",
    "#hf.close()\n",
    "\n",
    "\n",
    "#shutil.copy2(src, dest)"
   ]
  },
  {
   "cell_type": "code",
   "execution_count": 17,
   "metadata": {},
   "outputs": [
    {
     "data": {
      "text/plain": [
       "(64, 64)"
      ]
     },
     "execution_count": 17,
     "metadata": {},
     "output_type": "execute_result"
    }
   ],
   "source": [
    "img_group_name = '197.271/IMAGES'\n",
    "j=0\n",
    "filters = [\"CFIS u/\", \"PS1 g/\", \"CFIS r/\", \"PS1 i/\", \"PS1 z/\"]\n",
    "filter_dict = {k:v for v,k in enumerate(filters)}\n",
    "f = 'CFIS u/'\n",
    "hf[img_group_name + f\"/c{j}-r\"][...,filter_dict[f]].shape"
   ]
  },
  {
   "cell_type": "code",
   "execution_count": 39,
   "metadata": {},
   "outputs": [],
   "source": [
    "hf = h5py.File(dest + file_name, \"w\")"
   ]
  },
  {
   "cell_type": "code",
   "execution_count": 18,
   "metadata": {},
   "outputs": [],
   "source": [
    "hf.close()"
   ]
  },
  {
   "cell_type": "code",
   "execution_count": 36,
   "metadata": {
    "tags": []
   },
   "outputs": [],
   "source": [
    "tile_file = open(image_dir + \"tiles_cand.list\", \"r\")\n",
    "tile_list = tile_file.readlines()\n",
    "for i in range(len(tile_list)):\n",
    "    tile_list[i] = tile_list[i][:-1] # Remove new line characters\n",
    "    #print(tile_list[i])\n",
    "tile_file.close()"
   ]
  },
  {
   "cell_type": "code",
   "execution_count": 37,
   "metadata": {},
   "outputs": [],
   "source": [
    "label_subdirs = [\"stronglensdb_confirmed_unige/\", \"stronglensdb_candidates_unige/\", \"canameras2020/\",\n",
    "                 \"huang2020a_grade_A/\", \"huang2020a_grade_B/\", \"huang2020a_grade_C/\", \n",
    "                 \"huang2020b_grade_A/\", \"huang2020b_grade_B/\", \"huang2020b_grade_C/\"]\n",
    "filters = [\"CFIS u/\", \"PS1 g/\", \"CFIS r/\", \"PS1 i/\", \"PS1 z/\"]\n",
    "filter_dict = {k:v for v,k in enumerate(filters)}"
   ]
  },
  {
   "cell_type": "code",
   "execution_count": 9,
   "metadata": {},
   "outputs": [],
   "source": [
    "len_cat = []\n",
    "for label_subdir in [label_subdirs[0]]:\n",
    "    for f in [filters[0],filters[2]]:\n",
    "        subdir = label_dir + label_subdir + f\n",
    "        for csv in os.listdir(subdir):\n",
    "            if csv != \".ipynb_checkpoints\":\n",
    "                tile_id = csv[:7] \n",
    "               \n",
    "                tile_name = f.split(\" \")[0] + \".\" + tile_id + \".\" + f.split(\" \")[1][0]\n",
    "                \n",
    "                cat = table.Table.read(image_dir+ tile_name + '.cat', format=\"ascii.sextractor\")\n",
    "                len_cat.append(len(cat))"
   ]
  },
  {
   "cell_type": "code",
   "execution_count": 10,
   "metadata": {},
   "outputs": [
    {
     "data": {
      "text/plain": [
       "430"
      ]
     },
     "execution_count": 10,
     "metadata": {},
     "output_type": "execute_result"
    }
   ],
   "source": [
    "min(len_cat)"
   ]
  },
  {
   "cell_type": "code",
   "execution_count": 9,
   "metadata": {},
   "outputs": [
    {
     "data": {
      "image/png": "[encoded data removed]",
      "text/plain": [
       "<Figure size 432x288 with 1 Axes>"
      ]
     },
     "metadata": {
      "needs_background": "light"
     },
     "output_type": "display_data"
    }
   ],
   "source": [
    "#number of cutouts per tile for u and r tiles\n",
    "plt.hist(len_cat, bins = 100);"
   ]
  },
  {
   "cell_type": "markdown",
   "metadata": {},
   "source": [
    "right now, taking u confirmed cutouts (and saves coordinates for tile in r later) + new 300 cutouts \n",
    "then for r list, taking new cutout (confirmed in r) + u confirmed in r + 300 same cutouts from u in r"
   ]
  },
  {
   "cell_type": "code",
   "execution_count": 41,
   "metadata": {},
   "outputs": [
    {
     "data": {
      "text/plain": [
       "'452.239_labels.csv'"
      ]
     },
     "execution_count": 41,
     "metadata": {},
     "output_type": "execute_result"
    }
   ],
   "source": [
    "csv\n"
   ]
  },
  {
   "cell_type": "code",
   "execution_count": 65,
   "metadata": {},
   "outputs": [
    {
     "data": {
      "text/plain": [
       "<KeysViewHDF5 []>"
      ]
     },
     "execution_count": 65,
     "metadata": {},
     "output_type": "execute_result"
    }
   ],
   "source": [
    "for i in list(hf.keys()):\n",
    "    del hf[i]\n",
    "hf.keys()"
   ]
  },
  {
   "cell_type": "code",
   "execution_count": 75,
   "metadata": {
    "collapsed": true,
    "jupyter": {
     "outputs_hidden": true
    },
    "tags": []
   },
   "outputs": [
    {
     "name": "stdout",
     "output_type": "stream",
     "text": [
      "labels/stronglensdb_confirmed_unige/CFIS r/\n",
      "197.271_labels.csv\n",
      "248.272_labels.csv\n",
      "203.263_labels.csv\n",
      "165.270_labels.csv\n",
      "201.311_labels.csv\n",
      "241.290_labels.csv\n",
      "204.278_labels.csv\n",
      "147.288_labels.csv\n",
      "260.284_labels.csv\n",
      "234.295_labels.csv\n",
      "206.264_labels.csv\n",
      "254.287_labels.csv\n",
      "246.289_labels.csv\n",
      "228.262_labels.csv\n",
      "070.320_labels.csv\n",
      "340.274_labels.csv\n",
      "246.291_labels.csv\n",
      "403.238_labels.csv\n",
      "269.283_labels.csv\n",
      "238.293_labels.csv\n",
      "230.296_labels.csv\n",
      "188.307_labels.csv\n",
      "164.282_labels.csv\n",
      "264.299_labels.csv\n",
      "236.293_labels.csv\n",
      "442.244_labels.csv\n",
      "211.252_labels.csv\n",
      "407.242_labels.csv\n",
      "162.275_labels.csv\n",
      "238.291_labels.csv\n",
      "424.243_labels.csv\n",
      "175.268_labels.csv\n",
      "203.285_labels.csv\n",
      "245.289_labels.csv\n",
      "249.287_labels.csv\n",
      "243.292_labels.csv\n",
      "261.266_labels.csv\n",
      "175.271_labels.csv\n",
      "253.263_labels.csv\n",
      "349.267_labels.csv\n",
      "266.298_labels.csv\n",
      "380.255_labels.csv\n",
      "245.284_labels.csv\n",
      "253.286_labels.csv\n",
      "264.267_labels.csv\n",
      "259.286_labels.csv\n",
      "226.273_labels.csv\n",
      "267.284_labels.csv\n",
      "204.257_labels.csv\n",
      "262.285_labels.csv\n",
      "201.287_labels.csv\n",
      "258.285_labels.csv\n",
      "328.262_labels.csv\n",
      "222.247_labels.csv\n",
      "186.253_labels.csv\n",
      "379.259_labels.csv\n",
      "232.294_labels.csv\n",
      "276.255_labels.csv\n",
      "159.283_labels.csv\n",
      "235.292_labels.csv\n",
      "196.271_labels.csv\n",
      "294.238_labels.csv\n",
      "260.251_labels.csv\n",
      "229.296_labels.csv\n",
      "358.243_labels.csv\n",
      "245.297_labels.csv\n",
      "370.266_labels.csv\n",
      "204.269_labels.csv\n",
      "262.284_labels.csv\n",
      "273.273_labels.csv\n",
      "261.285_labels.csv\n",
      "217.257_labels.csv\n",
      "233.295_labels.csv\n",
      "199.255_labels.csv\n",
      "243.290_labels.csv\n",
      "068.321_labels.csv\n",
      "297.255_labels.csv\n",
      "319.290_labels.csv\n",
      "245.290_labels.csv\n",
      "239.258_labels.csv\n",
      "336.239_labels.csv\n",
      "268.254_labels.csv\n",
      "375.252_labels.csv\n",
      "167.274_labels.csv\n",
      "244.294_labels.csv\n",
      "337.271_labels.csv\n",
      "272.256_labels.csv\n",
      "403.257_labels.csv\n",
      "212.301_labels.csv\n",
      "166.281_labels.csv\n",
      "333.268_labels.csv\n",
      "213.274_labels.csv\n",
      "351.245_labels.csv\n",
      "183.292_labels.csv\n",
      "378.272_labels.csv\n",
      "244.284_labels.csv\n",
      "347.271_labels.csv\n",
      "247.291_labels.csv\n",
      "300.251_labels.csv\n",
      "240.258_labels.csv\n",
      "168.268_labels.csv\n",
      "229.294_labels.csv\n",
      "154.286_labels.csv\n",
      "147.282_labels.csv\n",
      "156.285_labels.csv\n",
      "164.278_labels.csv\n",
      "342.243_labels.csv\n",
      "195.307_labels.csv\n",
      "196.287_labels.csv\n",
      "374.267_labels.csv\n",
      "267.283_labels.csv\n",
      "299.246_labels.csv\n",
      "205.269_labels.csv\n",
      "330.260_labels.csv\n",
      "292.256_labels.csv\n",
      "263.299_labels.csv\n",
      "051.245_labels.csv\n",
      "231.274_labels.csv\n",
      "154.285_labels.csv\n",
      "214.269_labels.csv\n",
      "256.287_labels.csv\n",
      "264.284_labels.csv\n",
      "352.268_labels.csv\n",
      "406.250_labels.csv\n",
      "240.293_labels.csv\n",
      "272.283_labels.csv\n",
      "232.295_labels.csv\n",
      "194.305_labels.csv\n",
      "238.294_labels.csv\n",
      "195.250_labels.csv\n",
      "230.265_labels.csv\n",
      "236.294_labels.csv\n",
      "275.272_labels.csv\n",
      "277.286_labels.csv\n",
      "163.275_labels.csv\n",
      "242.290_labels.csv\n",
      "231.289_labels.csv\n",
      "179.259_labels.csv\n",
      "296.253_labels.csv\n",
      "230.261_labels.csv\n",
      "355.250_labels.csv\n",
      "244.275_labels.csv\n",
      "216.250_labels.csv\n",
      "386.248_labels.csv\n",
      "219.264_labels.csv\n",
      "257.285_labels.csv\n",
      "238.278_labels.csv\n",
      "227.295_labels.csv\n",
      "230.294_labels.csv\n",
      "263.267_labels.csv\n",
      "237.291_labels.csv\n",
      "393.245_labels.csv\n",
      "193.247_labels.csv\n",
      "342.271_labels.csv\n",
      "244.296_labels.csv\n",
      "392.250_labels.csv\n",
      "197.287_labels.csv\n",
      "452.239_labels.csv\n",
      "labels/stronglensdb_confirmed_unige/CFIS u/\n",
      "197.271_labels.csv\n",
      "248.272_labels.csv\n",
      "203.263_labels.csv\n",
      "165.270_labels.csv\n",
      "314.228_labels.csv\n",
      "640.188_labels.csv\n",
      "050.212_labels.csv\n",
      "206.264_labels.csv\n",
      "228.262_labels.csv\n",
      "324.225_labels.csv\n",
      "009.213_labels.csv\n",
      "358.225_labels.csv\n",
      "248.235_labels.csv\n",
      "661.184_labels.csv\n",
      "340.274_labels.csv\n",
      "346.224_labels.csv\n",
      "222.232_labels.csv\n",
      "361.249_labels.csv\n",
      "367.182_labels.csv\n",
      "403.238_labels.csv\n",
      "683.198_labels.csv\n",
      "164.282_labels.csv\n",
      "264.299_labels.csv\n",
      "290.235_labels.csv\n",
      "690.181_labels.csv\n",
      "356.257_labels.csv\n",
      "442.244_labels.csv\n",
      "669.179_labels.csv\n",
      "211.252_labels.csv\n",
      "407.242_labels.csv\n",
      "162.275_labels.csv\n",
      "337.219_labels.csv\n",
      "382.241_labels.csv\n",
      "417.236_labels.csv\n",
      "424.243_labels.csv\n",
      "662.188_labels.csv\n",
      "036.186_labels.csv\n",
      "175.268_labels.csv\n",
      "209.235_labels.csv\n",
      "203.285_labels.csv\n",
      "328.225_labels.csv\n",
      "335.252_labels.csv\n",
      "667.180_labels.csv\n",
      "261.266_labels.csv\n",
      "398.226_labels.csv\n",
      "175.271_labels.csv\n",
      "253.263_labels.csv\n",
      "259.300_labels.csv\n",
      "327.231_labels.csv\n",
      "670.209_labels.csv\n",
      "033.184_labels.csv\n",
      "266.298_labels.csv\n",
      "295.237_labels.csv\n",
      "022.182_labels.csv\n",
      "380.255_labels.csv\n",
      "679.187_labels.csv\n",
      "374.225_labels.csv\n",
      "226.273_labels.csv\n",
      "204.257_labels.csv\n",
      "201.287_labels.csv\n",
      "057.252_labels.csv\n",
      "346.246_labels.csv\n",
      "328.262_labels.csv\n",
      "210.230_labels.csv\n",
      "222.247_labels.csv\n",
      "692.181_labels.csv\n",
      "356.182_labels.csv\n",
      "193.245_labels.csv\n",
      "186.253_labels.csv\n",
      "714.180_labels.csv\n",
      "339.247_labels.csv\n",
      "381.245_labels.csv\n",
      "282.233_labels.csv\n",
      "379.259_labels.csv\n",
      "276.255_labels.csv\n",
      "223.231_labels.csv\n",
      "196.271_labels.csv\n",
      "294.238_labels.csv\n",
      "260.251_labels.csv\n",
      "447.223_labels.csv\n",
      "326.253_labels.csv\n",
      "238.217_labels.csv\n",
      "358.243_labels.csv\n",
      "370.266_labels.csv\n",
      "204.269_labels.csv\n",
      "661.219_labels.csv\n",
      "469.218_labels.csv\n",
      "671.183_labels.csv\n",
      "217.257_labels.csv\n",
      "199.255_labels.csv\n",
      "386.247_labels.csv\n",
      "297.255_labels.csv\n",
      "319.290_labels.csv\n",
      "239.258_labels.csv\n",
      "336.239_labels.csv\n",
      "086.181_labels.csv\n",
      "651.180_labels.csv\n",
      "268.254_labels.csv\n",
      "018.198_labels.csv\n",
      "375.252_labels.csv\n",
      "167.274_labels.csv\n",
      "337.271_labels.csv\n",
      "034.210_labels.csv\n",
      "448.216_labels.csv\n",
      "272.256_labels.csv\n",
      "403.257_labels.csv\n",
      "641.188_labels.csv\n",
      "166.281_labels.csv\n",
      "333.268_labels.csv\n",
      "553.254_labels.csv\n",
      "229.220_labels.csv\n",
      "351.245_labels.csv\n",
      "183.292_labels.csv\n",
      "378.272_labels.csv\n",
      "347.271_labels.csv\n",
      "349.186_labels.csv\n",
      "300.251_labels.csv\n",
      "240.258_labels.csv\n",
      "168.268_labels.csv\n",
      "252.220_labels.csv\n",
      "224.234_labels.csv\n",
      "147.282_labels.csv\n",
      "345.236_labels.csv\n",
      "164.278_labels.csv\n",
      "342.243_labels.csv\n",
      "196.287_labels.csv\n",
      "013.231_labels.csv\n",
      "014.193_labels.csv\n",
      "033.183_labels.csv\n",
      "374.267_labels.csv\n",
      "299.246_labels.csv\n",
      "205.269_labels.csv\n",
      "330.260_labels.csv\n",
      "292.256_labels.csv\n",
      "373.180_labels.csv\n",
      "263.299_labels.csv\n",
      "051.245_labels.csv\n",
      "231.274_labels.csv\n",
      "214.269_labels.csv\n",
      "711.180_labels.csv\n",
      "329.253_labels.csv\n",
      "352.268_labels.csv\n",
      "352.253_labels.csv\n",
      "406.250_labels.csv\n",
      "369.220_labels.csv\n",
      "472.227_labels.csv\n",
      "372.247_labels.csv\n",
      "265.233_labels.csv\n",
      "662.184_labels.csv\n",
      "195.250_labels.csv\n",
      "296.236_labels.csv\n",
      "644.204_labels.csv\n",
      "698.191_labels.csv\n",
      "230.265_labels.csv\n",
      "326.219_labels.csv\n",
      "659.204_labels.csv\n",
      "163.275_labels.csv\n",
      "013.214_labels.csv\n",
      "179.259_labels.csv\n",
      "296.253_labels.csv\n",
      "004.180_labels.csv\n",
      "464.230_labels.csv\n",
      "230.261_labels.csv\n",
      "450.233_labels.csv\n",
      "355.250_labels.csv\n",
      "375.243_labels.csv\n",
      "327.218_labels.csv\n",
      "244.275_labels.csv\n",
      "216.250_labels.csv\n",
      "386.248_labels.csv\n",
      "219.264_labels.csv\n",
      "353.180_labels.csv\n",
      "238.278_labels.csv\n",
      "359.250_labels.csv\n",
      "712.179_labels.csv\n",
      "033.219_labels.csv\n",
      "056.182_labels.csv\n",
      "348.187_labels.csv\n",
      "393.245_labels.csv\n",
      "193.247_labels.csv\n",
      "667.182_labels.csv\n",
      "342.271_labels.csv\n",
      "395.228_labels.csv\n",
      "360.180_labels.csv\n",
      "638.185_labels.csv\n",
      "392.250_labels.csv\n",
      "197.287_labels.csv\n",
      "667.179_labels.csv\n",
      "042.188_labels.csv\n",
      "659.188_labels.csv\n",
      "452.239_labels.csv\n"
     ]
    }
   ],
   "source": [
    "#clean directory\n",
    "for label_subdir in [label_subdirs[0]]:\n",
    "    for f in [filters[2],filters[0]]:\n",
    "        subdir = label_dir + label_subdir + f\n",
    "        print(subdir)\n",
    "        z = 1\n",
    "        for csv in os.listdir(subdir):\n",
    "            if csv == '.ipynb_checkpoints':\n",
    "                del csv\n",
    "            else:\n",
    "                print(csv)\n",
    "            "
   ]
  },
  {
   "cell_type": "code",
   "execution_count": 66,
   "metadata": {
    "tags": []
   },
   "outputs": [
    {
     "name": "stdout",
     "output_type": "stream",
     "text": [
      "labels/stronglensdb_confirmed_unige/CFIS u/\n",
      "id 297.255\n",
      "should be 0 0\n",
      "new cand\n",
      "done 1\n",
      "2 10131 2\n",
      "2 5747 3\n",
      "done 3\n",
      "Finished stronglensdb_confirmed_unige/\n",
      "labels/stronglensdb_confirmed_unige/CFIS r/\n",
      "id 297.255\n",
      "should be 0 0\n",
      "new cand\n",
      "done 1\n",
      "2 10131 2\n",
      "2 5747 3\n",
      "done 3\n",
      "Finished stronglensdb_confirmed_unige/\n"
     ]
    }
   ],
   "source": [
    "broken_tiles = []\n",
    "prev_conf = {'197.271': None} #dictionary of previously seen tiles\n",
    "cutout_size = 64\n",
    "for label_subdir in [label_subdirs[0]]:\n",
    "    for f in [filters[0],filters[2]]:\n",
    "        subdir = label_dir + label_subdir + f\n",
    "        print(subdir)\n",
    "        z=0\n",
    "        for csv in ['297.255_labels.csv']:\n",
    "            if z < 2:\n",
    "                z+=1\n",
    "                tile_id = csv[:7] # XXX.XXX id\n",
    "                print('id', tile_id)\n",
    "    #                 img_group_name = label_subdir + tile_id + \"/\" + f + \"IMAGES\"\n",
    "    #                 wt_group_name = label_subdir + tile_id + \"/\" + f + \"WEIGHTS\"\n",
    "\n",
    "                img_group_name =  tile_id + \"/\" + \"IMAGES\"\n",
    "                wt_group_name  =  tile_id + \"/\" + \"WEIGHTS\"\n",
    "                tile_name = f.split(\" \")[0] + \".\" + tile_id + \".\" + f.split(\" \")[1][0]\n",
    "               \n",
    "                #FILES\n",
    "                #weight\n",
    "                if \"CFIS\" in f:\n",
    "                    wt_name = \".weight.fits.fz\"\n",
    "                    wt_index = 1\n",
    "                else:\n",
    "                    wt_name = \".wt.fits\"\n",
    "                    wt_index = 0\n",
    "                \n",
    "                #files\n",
    "                img_fits = fits.open(image_dir + tile_name + \".fits\", memmap=True)\n",
    "                wt_fits  = fits.open(image_dir + tile_name + wt_name, memmap=True)\n",
    "                cat = table.Table.read(image_dir + tile_name + '.cat', format=\"ascii.sextractor\")\n",
    "\n",
    "                new_group = False\n",
    "                if img_group_name not in hf:\n",
    "                    new_group = True\n",
    "                    img_group = hf.create_group(img_group_name)\n",
    "                    wt_group = hf.create_group(wt_group_name)\n",
    "\n",
    "                    img_cutout_all = np.random.normal(loc = 0.5,scale= 0.13, size=(cutout_size, cutout_size,5))\n",
    "                    #img_cutout = np.zeros((cutout_size, cutout_size, 5)) \n",
    "                    wt_cutout_all  = np.zeros((cutout_size, cutout_size, 5))\n",
    "\n",
    "                    #generate list of random cutouts\n",
    "                    rand_cutouts = random.sample(range(len(cat)),2)\n",
    "\n",
    "                else:\n",
    "                    img_group = hf[img_group_name]\n",
    "                    wt_group = hf[wt_group_name]\n",
    "\n",
    "                    #want the same cutouts as previous, with previous catalogue (u)\n",
    "                    list_cutouts = list(hf[img_group_name].keys())\n",
    "                    #prev random cutouts\n",
    "                    rand_cutouts = [int((i[1:]).split(\"-\")[0]) for i in list_cutouts if  'u' not in (i[1:]).split(\"-\")] \n",
    "                    #prev confirmed cutouts\n",
    "                    cat_prev = table.Table.read(image_dir + tile_name[:-1] + 'u' + '.cat', format=\"ascii.sextractor\")\n",
    "\n",
    "\n",
    "                #### make cutouts\n",
    "                count = 0 \n",
    "                #candidates cutouts\n",
    "                df = pd.read_csv(subdir + csv)\n",
    "                nlabels = len(df)\n",
    "                \n",
    "            #----create candidate cutout from previous catalogue----#    \n",
    "                if (tile_id + '-0') in prev_conf:\n",
    "                    j = 0 \n",
    "                    try_tile = tile_id + '-0' #first cutout is labelled with 0 for sure\n",
    "                    if try_tile in prev_conf:\n",
    "                        (x,y) =prev_conf[tile_id + '-' + str(count)] \n",
    "                        try:\n",
    "                            (img_cutout, wt_cutout) = create_cutouts(img_fits[0], wt_fits[wt_index], x, y, tile_name[-1])\n",
    "                        except:\n",
    "                            broken_tiles.append(tile_name) \n",
    "                            pass\n",
    "                        \n",
    "                        count += 1\n",
    "                        j+=1\n",
    "                        try_tile = tile_id + f'-{j}'\n",
    "#                         print('previous done')\n",
    "                    else:\n",
    "#                         print('all u cutouts done in r')\n",
    "                         break\n",
    "                    \n",
    "#                     print('onto new confirmed r cutouts')\n",
    "                    \n",
    "            #----create candidate cutout from current catalogue----#    \n",
    "                count = 0\n",
    "                for n in range(nlabels): \n",
    "                    x = df[\"x\"][n]\n",
    "                    y = df[\"y\"][n]\n",
    "                    #save x,y for u channel\n",
    "                    if tile_name[-1] == 'u':\n",
    "                        prev_conf[tile_id + '-' + str(count)] = (x,y)\n",
    "                    #make cutout\n",
    "                    try:\n",
    "                        (img_cutout, wt_cutout) = create_cutouts(img_fits[0], wt_fits[wt_index], x, y, tile_name[-1])\n",
    "                    except:\n",
    "                        broken_tiles.append(tile_name) \n",
    "                        pass\n",
    "\n",
    "                    print('should be 0', count)\n",
    "                    count += 1\n",
    "                    \n",
    "                    print('new cand')\n",
    "                    img_cutout_all[:,:,filter_dict[f]] = img_cutout\n",
    "                    wt_cutout_all[:,:,filter_dict[f]]  = wt_cutout\n",
    "\n",
    "                    img_group.create_dataset(f\"c{n}-\"+tile_name[-1], data=img_cutout_all)\n",
    "                    wt_group.create_dataset(f\"c{n}-\"+tile_name[-1], data=wt_cutout_all)\n",
    "                       \n",
    "                print(f'done {count}')\n",
    "                \n",
    "            #----create extra random cutout from current catalogue----#   \n",
    "                for n in rand_cutouts:\n",
    "                    #if cat[\"FLAGS\"][n] != 0 or cat[\"MAG_AUTO\"][n] >= 99.0 or cat[\"MAGERR_AUTO\"][n] <= 0 or cat[\"MAGERR_AUTO\"][n] >= 1:\n",
    "                    #    continue\n",
    "                \n",
    "                    count += 1\n",
    "                    if new_group is True: #create cutout from current catalogue if new group\n",
    "                        x = cat[\"X_IMAGE\"][n]\n",
    "                        y = cat[\"Y_IMAGE\"][n]\n",
    "                        try:\n",
    "                            (img_cutout, wt_cutout) = create_cutouts(img_fits[0], wt_fits[wt_index], x, y, f[-2])\n",
    "                        except:\n",
    "                            broken_tiles.append(tile_name) \n",
    "                            pass\n",
    "\n",
    "                        img_cutout_all[:,:,filter_dict[f]] = img_cutout\n",
    "                        wt_cutout_all[:,:,filter_dict[f]]  = wt_cutout\n",
    "                        \n",
    "                        img_group.create_dataset(f\"c{n}\", data=img_cutout_all)\n",
    "                        wt_group.create_dataset(f\"c{n}\", data=wt_cutout_all)\n",
    "                    \n",
    "                    else:                 #add cutout to existing group\n",
    "                        x = cat_prev[\"X_IMAGE\"][n]\n",
    "                        y = cat_prev[\"Y_IMAGE\"][n]\n",
    "                        try:\n",
    "                            (img_cutout, wt_cutout) = create_cutouts(img_fits[0], wt_fits[wt_index], x, y, f[-2])\n",
    "                        except:\n",
    "                            broken_tiles.append(tile_name) \n",
    "                            pass\n",
    "\n",
    "                        if img_cutout is None:\n",
    "                            img_cutout = np.random.normal(loc = 0.5,scale= 0.13, size=(cutout_size, cutout_size))\n",
    "                            wt_cutout  = np.zeros((cutout_size, cutout_size))\n",
    "                        else:\n",
    "                            hf[img_group_name + f\"/c{n}\"][...,filter_dict[f]] = img_cutout\n",
    "                            hf[wt_group_name + f\"/c{n}\"][...,filter_dict[f]] = wt_cutout\n",
    "\n",
    "                    print(len(rand_cutouts),n, count)\n",
    "                print(f'done {count}')\n",
    "       \n",
    "                img_fits.close()\n",
    "                wt_fits.close()\n",
    "        print(f\"Finished {label_subdir}\")"
   ]
  },
  {
   "cell_type": "code",
   "execution_count": 73,
   "metadata": {},
   "outputs": [],
   "source": [
    "broken_tiles\n",
    "np.savetxt(\"broken_tiles.csv\", broken_tiles, delimiter =\", \", fmt ='% s')"
   ]
  },
  {
   "cell_type": "code",
   "execution_count": 56,
   "metadata": {},
   "outputs": [
    {
     "data": {
      "text/plain": [
       "<KeysViewHDF5 ['c0-r', 'c0-u', 'c2259', 'c6945']>"
      ]
     },
     "execution_count": 56,
     "metadata": {},
     "output_type": "execute_result"
    }
   ],
   "source": [
    "hf['297.255/WEIGHTS'].keys()"
   ]
  },
  {
   "cell_type": "code",
   "execution_count": 62,
   "metadata": {},
   "outputs": [
    {
     "data": {
      "text/plain": [
       "<matplotlib.image.AxesImage at 0x2b0eb0090df0>"
      ]
     },
     "execution_count": 62,
     "metadata": {},
     "output_type": "execute_result"
    },
    {
     "data": {
      "image/png": "[encoded data removed]",
      "text/plain": [
       "<Figure size 432x288 with 1 Axes>"
      ]
     },
     "metadata": {
      "needs_background": "light"
     },
     "output_type": "display_data"
    }
   ],
   "source": [
    "plt.imshow(np.array(hf['297.255/IMAGES/c6945'])[...,2])"
   ]
  },
  {
   "cell_type": "markdown",
   "metadata": {},
   "source": [
    "---\n",
    "# Testing"
   ]
  },
  {
   "cell_type": "code",
   "execution_count": 79,
   "metadata": {},
   "outputs": [],
   "source": [
    "img_cutout"
   ]
  },
  {
   "cell_type": "code",
   "execution_count": 68,
   "metadata": {},
   "outputs": [
    {
     "data": {
      "text/plain": [
       "(64, 64)"
      ]
     },
     "execution_count": 68,
     "metadata": {},
     "output_type": "execute_result"
    }
   ],
   "source": [
    "plt.imshow(img_cutout.shape"
   ]
  },
  {
   "cell_type": "code",
   "execution_count": 127,
   "metadata": {},
   "outputs": [
    {
     "data": {
      "text/plain": [
       "<KeysViewHDF5 ['050.212', '147.288', '165.270', '197.271', '201.311', '203.263', '204.278', '206.264', '228.262', '234.295', '241.290', '248.272', '260.284', '314.228', '324.225', '640.188']>"
      ]
     },
     "execution_count": 127,
     "metadata": {},
     "output_type": "execute_result"
    }
   ],
   "source": [
    "hf.keys()"
   ]
  },
  {
   "cell_type": "code",
   "execution_count": 133,
   "metadata": {},
   "outputs": [
    {
     "data": {
      "text/plain": [
       "<KeysViewHDF5 ['c0-r', 'c0-u', 'c1861', 'c2418']>"
      ]
     },
     "execution_count": 133,
     "metadata": {},
     "output_type": "execute_result"
    }
   ],
   "source": [
    "hf['165.270/IMAGES'].keys()"
   ]
  },
  {
   "cell_type": "code",
   "execution_count": 134,
   "metadata": {},
   "outputs": [],
   "source": [
    "tile = '165.270'\n",
    "cut  = 'c2644'\n",
    "r_band_only = np.array(hf['165.270/IMAGES/c0-r'])\n",
    "u_band_only = np.array(hf['165.270/IMAGES/c0-u'])\n",
    "tile        = np.array(hf['165.270/IMAGES/c1861'])\n",
    "\n",
    "weight = np.array(hf['165.270/WEIGHTS/c1861'])\n",
    "r_w    = np.array(hf['165.270//WEIGHTS/c0-r'])\n",
    "u_w    = np.array(hf['165.270//WEIGHTS/c0-u'])"
   ]
  },
  {
   "cell_type": "code",
   "execution_count": 135,
   "metadata": {},
   "outputs": [
    {
     "data": {
      "image/png": "[encoded data removed]",
      "text/plain": [
       "<Figure size 432x288 with 30 Axes>"
      ]
     },
     "metadata": {
      "needs_background": "light"
     },
     "output_type": "display_data"
    }
   ],
   "source": [
    "fig, axes = plt.subplots(5, 6)\n",
    "for i in range(5):\n",
    "    axes[i][0].imshow(r_band_only[...,i])\n",
    "    axes[i][1].imshow(u_band_only[...,i])\n",
    "    axes[i][2].imshow(tile[...,i])\n",
    "    axes[i][3].imshow(r_w[...,i])\n",
    "    axes[i][4].imshow(u_w[...,i])\n",
    "    axes[i][5].imshow(weight[...,i])"
   ]
  },
  {
   "cell_type": "code",
   "execution_count": 65,
   "metadata": {},
   "outputs": [
    {
     "data": {
      "text/plain": [
       "'/scratch/anahoban/labelled_cutouts_64p.h5'"
      ]
     },
     "execution_count": 65,
     "metadata": {},
     "output_type": "execute_result"
    }
   ],
   "source": [
    "hf.close()\n",
    "src = os.path.expandvars(\"$SLURM_TMPDIR\") + \"/labelled_cutouts_64p.h5\"\n",
    "dest = os.path.expandvars(\"$SCRATCH\") + \"/\"\n",
    "shutil.copy2(src, dest)"
   ]
  },
  {
   "cell_type": "code",
   "execution_count": 136,
   "metadata": {},
   "outputs": [],
   "source": [
    "hf.close()"
   ]
  },
  {
   "cell_type": "code",
   "execution_count": 8,
   "metadata": {},
   "outputs": [],
   "source": [
    "tile_ids = list(hf.keys())"
   ]
  },
  {
   "cell_type": "code",
   "execution_count": 11,
   "metadata": {},
   "outputs": [
    {
     "name": "stdout",
     "output_type": "stream",
     "text": [
      "103981\n"
     ]
    }
   ],
   "source": [
    "n_cutouts = 0\n",
    "for i in range(len(tile_ids)):\n",
    "    n = len(hf.get(tile_ids[i] + \"/IMAGES\"))\n",
    "    n_cutouts += n\n",
    "print(n_cutouts)\n"
   ]
  },
  {
   "cell_type": "code",
   "execution_count": null,
   "metadata": {},
   "outputs": [],
   "source": []
  }
 ],
 "metadata": {
  "kernelspec": {
   "display_name": "Python 3",
   "language": "python",
   "name": "python3"
  },
  "language_info": {
   "codemirror_mode": {
    "name": "ipython",
    "version": 3
   },
   "file_extension": ".py",
   "mimetype": "text/x-python",
   "name": "python",
   "nbconvert_exporter": "python",
   "pygments_lexer": "ipython3",
   "version": "3.8.2"
  }
 },
 "nbformat": 4,
 "nbformat_minor": 4
}

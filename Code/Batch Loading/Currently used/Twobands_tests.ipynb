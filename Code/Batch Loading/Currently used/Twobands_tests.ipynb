{
 "cells": [
  {
   "cell_type": "code",
   "execution_count": 1,
   "metadata": {},
   "outputs": [],
   "source": [
    "import os\n",
    "import h5py\n",
    "import numpy as np\n",
    "import pandas as pd\n",
    "import matplotlib.pyplot as plt\n",
    "from astropy.visualization import (ZScaleInterval, ImageNormalize)\n",
    "import tensorflow as tf\n",
    "from tensorflow import keras"
   ]
  },
  {
   "cell_type": "code",
   "execution_count": 2,
   "metadata": {},
   "outputs": [],
   "source": [
    "cutout_dir = os.path.expandvars(\"$SCRATCH\") + \"/\"\n",
    "image_dir = \"/home/anahoban/projects/rrg-kyi/astro/cfis/W3/\""
   ]
  },
  {
   "cell_type": "code",
   "execution_count": 4,
   "metadata": {},
   "outputs": [],
   "source": [
    "#get tile ids\n",
    "tile_list = open(image_dir + \"tiles.list\", \"r\")\n",
    "\n",
    "# Only use tiles with all five channels\n",
    "tile_list = open(image_dir + \"tiles.list\", \"r\")\n",
    "tile_ids = []\n",
    "\n",
    "for tile in tile_list:\n",
    "    tile = tile[:-1] # Remove new line character\n",
    "    channels = tile.split(\" \")\n",
    "    if len(channels) == 5: # Order is u,g,r,i,z\n",
    "        tile_ids.append(channels[0][5:12]) # XXX.XXX id\n",
    "tile_list.close()"
   ]
  },
  {
   "cell_type": "code",
   "execution_count": 7,
   "metadata": {},
   "outputs": [],
   "source": [
    "hf = h5py.File(cutout_dir + \"cutouts_filtered.h5\", \"r\")"
   ]
  },
  {
   "cell_type": "code",
   "execution_count": 8,
   "metadata": {},
   "outputs": [
    {
     "name": "stdout",
     "output_type": "stream",
     "text": [
      "0\n",
      "1\n",
      "2\n",
      "3\n",
      "4\n",
      "57399\n"
     ]
    }
   ],
   "source": [
    "n_cutouts = 0\n",
    "for i in range(5):\n",
    "    print(i)\n",
    "    n_cutouts += len(hf.get(tile_ids[i] + \"/IMAGES\"))\n",
    "print(n_cutouts)\n"
   ]
  },
  {
   "cell_type": "code",
   "execution_count": 11,
   "metadata": {},
   "outputs": [],
   "source": [
    "n_valid = len(hf.get(tile_ids[12] + \"/IMAGES\"))"
   ]
  },
  {
   "cell_type": "code",
   "execution_count": 12,
   "metadata": {},
   "outputs": [],
   "source": [
    "# tiles for val and training\n",
    "train_indices = range(5)\n",
    "val_indices = [12]"
   ]
  },
  {
   "cell_type": "code",
   "execution_count": 13,
   "metadata": {},
   "outputs": [],
   "source": [
    "BATCH_SIZE = 256 #128\n",
    "CUTOUT_SIZE = 128\n",
    "N_EPOCHS = 8 #12\n",
    "weights_cfis = np.zeros((BATCH_SIZE, CUTOUT_SIZE, CUTOUT_SIZE, 2))\n",
    "weights_ps1 = np.zeros((BATCH_SIZE, CUTOUT_SIZE, CUTOUT_SIZE, 3))\n",
    "weights_all = np.zeros((BATCH_SIZE, CUTOUT_SIZE, CUTOUT_SIZE, 5))"
   ]
  },
  {
   "cell_type": "code",
   "execution_count": 14,
   "metadata": {},
   "outputs": [],
   "source": [
    "def get_test_cutouts(index, n_cutouts, cutout_size, bands=\"all\", start=0):\n",
    "    n = 0\n",
    "    if bands == \"all\":\n",
    "        sources = np.zeros((n_cutouts, cutout_size, cutout_size, 5))\n",
    "        weights = np.zeros((n_cutouts, cutout_size, cutout_size, 5))\n",
    "        band_indices = [0, 1, 2, 3, 4]\n",
    "    elif bands == \"cfis\":\n",
    "        sources = np.zeros((n_cutouts, cutout_size, cutout_size, 2))\n",
    "        weights = np.zeros((n_cutouts, cutout_size, cutout_size, 2))\n",
    "        band_indices = [0, 2]\n",
    "    else: # PS1\n",
    "        sources = np.zeros((n_cutouts, cutout_size, cutout_size, 3))\n",
    "        weights = np.zeros((n_cutouts, cutout_size, cutout_size, 3))\n",
    "        band_indices = [1, 3, 4]\n",
    "    img_group = hf.get(tile_ids[index] + \"/IMAGES\")\n",
    "    wt_group = hf.get(tile_ids[index] + \"/WEIGHTS\")\n",
    "    for i in range(start, len(img_group)):\n",
    "        sources[n,:,:,:] = np.array(img_group.get(f\"c{i}\"))[:,:,band_indices]\n",
    "        weights[n,:,:,:] = np.array(wt_group.get(f\"c{i}\"))[:,:,band_indices]\n",
    "        n += 1\n",
    "        if n == n_cutouts:\n",
    "            return (sources, weights)"
   ]
  },
  {
   "cell_type": "code",
   "execution_count": 15,
   "metadata": {},
   "outputs": [
    {
     "data": {
      "text/plain": [
       "(50, 128, 128, 5)"
      ]
     },
     "execution_count": 15,
     "metadata": {},
     "output_type": "execute_result"
    }
   ],
   "source": [
    "test_index = 13\n",
    "#sources_test_cfis = get_test_cutouts(test_index, 50, cutout_size, \"cfis\")\n",
    "#sources_test_ps1 = get_test_cutouts(test_index, 50, cutout_size, \"ps1\")\n",
    "(sources_test_all, weights_test_all) = get_test_cutouts(test_index, 50, CUTOUT_SIZE)\n",
    "sources_test_all.shape"
   ]
  },
  {
   "cell_type": "code",
   "execution_count": 16,
   "metadata": {},
   "outputs": [],
   "source": [
    "def get_cutouts(tile_indices, batch_size, cutout_size, bands=\"all\"):\n",
    "    b = 0 # counter for batch\n",
    "    if bands == \"all\":\n",
    "        sources = np.zeros((batch_size, cutout_size, cutout_size, 5))\n",
    "        band_indices = [0, 1, 2, 3, 4]\n",
    "        weights = weights_all\n",
    "    elif bands == \"cfis\":\n",
    "        sources = np.zeros((batch_size, cutout_size, cutout_size, 2))\n",
    "        band_indices = [0, 2]\n",
    "        weights = weights_cfis\n",
    "    else: # PS1\n",
    "        sources = np.zeros((batch_size, cutout_size, cutout_size, 3))\n",
    "        band_indices = [1, 3, 4]\n",
    "        weights = weights_ps1\n",
    "    while True:\n",
    "        for i in tile_indices:\n",
    "            img_group = hf.get(tile_ids[i] + \"/IMAGES\")\n",
    "            wt_group = hf.get(tile_ids[i] + \"/WEIGHTS\")\n",
    "            n_cutouts = len(img_group)\n",
    "            for n in range(n_cutouts):\n",
    "                sources[b,:,:,:] = np.array(img_group.get(f\"c{n}\"))[:,:,band_indices]\n",
    "                weights[b,:,:,:] = np.array(wt_group.get(f\"c{n}\"))[:,:,band_indices]\n",
    "                b += 1\n",
    "                if b == batch_size:\n",
    "                    b = 0\n",
    "                    yield (sources, sources)"
   ]
  },
  {
   "cell_type": "code",
   "execution_count": 17,
   "metadata": {},
   "outputs": [],
   "source": [
    "def train_autoencoder(model, train_indices, val_indices, n_epochs, batch_size, cutout_size, bands=\"all\"):\n",
    "    n_cutouts_train = 0\n",
    "    for i in train_indices:\n",
    "        img_group = hf.get(tile_ids[i] + \"/IMAGES\")        \n",
    "        n_cutouts_train += len(img_group)\n",
    "    \n",
    "    n_cutouts_val = 0    \n",
    "    for i in val_indices:\n",
    "        img_group = hf.get(tile_ids[i] + \"/IMAGES\")        \n",
    "        n_cutouts_val += len(img_group)\n",
    "    \n",
    "    train_steps = n_cutouts_train // batch_size\n",
    "    val_steps = n_cutouts_val // batch_size\n",
    "    \n",
    "    history = model.fit(get_cutouts(train_indices, batch_size, cutout_size, bands), \n",
    "                        epochs=n_epochs, steps_per_epoch=train_steps, \n",
    "                        validation_data=get_cutouts(val_indices, batch_size, cutout_size, bands), \n",
    "                        validation_steps=val_steps)\n",
    "    return model, history"
   ]
  },
  {
   "cell_type": "code",
   "execution_count": 18,
   "metadata": {},
   "outputs": [],
   "source": [
    "def masked_MSE_with_uncertainty(y_true, y_pred):\n",
    "    y_pred_image = tf.gather(y_pred,indices=0,axis=-1)\n",
    "    y_true_image = tf.reshape(y_true,shape=tf.shape(y_pred_image))\n",
    "    weight = tf.gather(y_pred, indices=1, axis=-1)\n",
    "    mask = keras.abs(keras.sign(y_true_image))\n",
    "    return mask*(keras.square(tf.math.divide_no_nan(y_true_image - y_pred_image, weight)))"
   ]
  },
  {
   "cell_type": "code",
   "execution_count": 19,
   "metadata": {},
   "outputs": [],
   "source": [
    "# tiles for val and training\n",
    "train_indices = range(4)\n",
    "val_indices = [12]\n",
    "BATCH_SIZE= 128"
   ]
  },
  {
   "cell_type": "code",
   "execution_count": 20,
   "metadata": {},
   "outputs": [],
   "source": [
    "def create_autoencoder2(shape):\n",
    "    input_img = keras.Input(shape=shape)\n",
    "    x = keras.layers.Conv2D(16, kernel_size=3, activation='relu', padding='same')(input_img)\n",
    "    x = keras.layers.BatchNormalization()(x)\n",
    "    x = keras.layers.Conv2D(32, kernel_size=3, activation='relu', padding='same')(x)\n",
    "    x = keras.layers.BatchNormalization()(x)\n",
    "\n",
    "    y = keras.layers.Conv2D(32, kernel_size=3, activation='relu', padding='same')(input_img)\n",
    "    y = keras.layers.BatchNormalization()(y)\n",
    "    encoded = keras.layers.Add()([x,y])\n",
    "    \n",
    "    x = keras.layers.Conv2DTranspose(32, kernel_size=4, activation='relu', padding='same')(encoded)\n",
    "    x = keras.layers.Conv2DTranspose(16, kernel_size=4, activation='relu', padding='same')(x)\n",
    "    decoded = keras.layers.Conv2D(shape[2], kernel_size=3, activation='linear', padding='same')(x)\n",
    "    \n",
    "    return keras.Model(input_img, decoded)"
   ]
  },
  {
   "cell_type": "code",
   "execution_count": 22,
   "metadata": {},
   "outputs": [],
   "source": [
    "autoencoder_cfis = create_autoencoder2((CUTOUT_SIZE, CUTOUT_SIZE, 2))\n",
    "autoencoder_cfis.compile(optimizer=\"adam\", loss='mean_squared_error')"
   ]
  },
  {
   "cell_type": "code",
   "execution_count": null,
   "metadata": {},
   "outputs": [
    {
     "name": "stdout",
     "output_type": "stream",
     "text": [
      "Epoch 1/8\n",
      "155/276 [===============>..............] - ETA: 3:42 - loss: 6.7411"
     ]
    }
   ],
   "source": [
    "(autoencoder_cfis, history_cfis) = train_autoencoder(autoencoder_cfis, train_indices,  val_indices, batch_size=BATCH_SIZE,\n",
    "                                                     cutout_size=CUTOUT_SIZE, n_epochs= N_EPOCHS, bands=\"cfis\")\n",
    "   "
   ]
  },
  {
   "cell_type": "code",
   "execution_count": null,
   "metadata": {},
   "outputs": [],
   "source": []
  }
 ],
 "metadata": {
  "kernelspec": {
   "display_name": "Python 3",
   "language": "python",
   "name": "python3"
  },
  "language_info": {
   "codemirror_mode": {
    "name": "ipython",
    "version": 3
   },
   "file_extension": ".py",
   "mimetype": "text/x-python",
   "name": "python",
   "nbconvert_exporter": "python",
   "pygments_lexer": "ipython3",
   "version": "3.8.2"
  }
 },
 "nbformat": 4,
 "nbformat_minor": 4
}
